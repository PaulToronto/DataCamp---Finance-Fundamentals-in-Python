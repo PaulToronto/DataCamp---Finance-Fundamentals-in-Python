{
  "nbformat": 4,
  "nbformat_minor": 0,
  "metadata": {
    "colab": {
      "provenance": [],
      "toc_visible": true,
      "authorship_tag": "ABX9TyNp+IKz9JY2xg5H3Fx7SNrQ",
      "include_colab_link": true
    },
    "kernelspec": {
      "name": "python3",
      "display_name": "Python 3"
    },
    "language_info": {
      "name": "python"
    }
  },
  "cells": [
    {
      "cell_type": "markdown",
      "metadata": {
        "id": "view-in-github",
        "colab_type": "text"
      },
      "source": [
        "<a href=\"https://colab.research.google.com/github/PaulToronto/DataCamp---Finance-Fundamentals-in-Python/blob/main/1_1_Welcome_to_Python.ipynb\" target=\"_parent\"><img src=\"https://colab.research.google.com/assets/colab-badge.svg\" alt=\"Open In Colab\"/></a>"
      ]
    },
    {
      "cell_type": "markdown",
      "source": [
        "# 1.1 - Welcome to Python"
      ],
      "metadata": {
        "id": "_8UAhEqZzJ7Q"
      }
    },
    {
      "cell_type": "markdown",
      "source": [
        "## Python as a Calculator"
      ],
      "metadata": {
        "id": "z6av7u2y0-57"
      }
    },
    {
      "cell_type": "code",
      "execution_count": 1,
      "metadata": {
        "colab": {
          "base_uri": "https://localhost:8080/"
        },
        "id": "qLtueQLfzHfV",
        "outputId": "2234a94f-85ba-4605-a747-8a6128793aea"
      },
      "outputs": [
        {
          "output_type": "stream",
          "name": "stdout",
          "text": [
            "4.0\n"
          ]
        }
      ],
      "source": [
        "print(8 / 2)"
      ]
    },
    {
      "cell_type": "code",
      "source": [
        "3 ** 2"
      ],
      "metadata": {
        "colab": {
          "base_uri": "https://localhost:8080/"
        },
        "id": "Svc3b5MU0m4s",
        "outputId": "776d2d88-6d6d-4f02-b61c-4a21f24e7a95"
      },
      "execution_count": 2,
      "outputs": [
        {
          "output_type": "execute_result",
          "data": {
            "text/plain": [
              "9"
            ]
          },
          "metadata": {},
          "execution_count": 2
        }
      ]
    },
    {
      "cell_type": "markdown",
      "source": [
        "## Variables"
      ],
      "metadata": {
        "id": "dEz6I8yL1CLZ"
      }
    },
    {
      "cell_type": "markdown",
      "source": [
        "$$\n",
        "\\text{Price to earnings ratio} = \\frac{\\text{Market price}}{\\text{Earnings per share}}\n",
        "$$"
      ],
      "metadata": {
        "id": "KQmOh2QM3s7t"
      }
    },
    {
      "cell_type": "code",
      "source": [
        "market_price = 200          # dollars per share\n",
        "earnings_per_share = 5      # dollars per share\n",
        "\n",
        "price_to_earnings_ratio = market_price / earnings_per_share\n",
        "\n",
        "print(f\"Price to earnings ratio: {price_to_earnings_ratio}\")"
      ],
      "metadata": {
        "colab": {
          "base_uri": "https://localhost:8080/"
        },
        "id": "loOj7Qaf1D9s",
        "outputId": "ad557b4d-ba12-4782-f1f7-e0ef9756451c"
      },
      "execution_count": 3,
      "outputs": [
        {
          "output_type": "stream",
          "name": "stdout",
          "text": [
            "Price to earnings ratio: 40.0\n"
          ]
        }
      ]
    },
    {
      "cell_type": "markdown",
      "source": [
        "## Variable Data Types\n",
        "\n",
        "### Four Data types in Python\n",
        "\n",
        "1. Strings (`str`): `\"Hello, World!\"`\n",
        "2. Integers (`int`): `40`\n",
        "3. Floats (`float`): `3.141`\n",
        "4. Booleans (`bool`): `True`, `False1"
      ],
      "metadata": {
        "id": "B9r9N_615u5g"
      }
    },
    {
      "cell_type": "markdown",
      "source": [
        "## `type` function"
      ],
      "metadata": {
        "id": "M8KysSE_7UEC"
      }
    },
    {
      "cell_type": "code",
      "source": [
        "type('Hello, World'), type(40), type(3.141), type(True)"
      ],
      "metadata": {
        "colab": {
          "base_uri": "https://localhost:8080/"
        },
        "id": "50hC4Ubq7I6m",
        "outputId": "b32bfc09-a008-4d26-e450-ac3cd6f25057"
      },
      "execution_count": 4,
      "outputs": [
        {
          "output_type": "execute_result",
          "data": {
            "text/plain": [
              "(str, int, float, bool)"
            ]
          },
          "metadata": {},
          "execution_count": 4
        }
      ]
    },
    {
      "cell_type": "code",
      "source": [
        "for var in ['Hello, World', 40, 3.141, True]:\n",
        "    print(type(var))"
      ],
      "metadata": {
        "colab": {
          "base_uri": "https://localhost:8080/"
        },
        "id": "TrLpnkH57okc",
        "outputId": "0d9c88be-1c00-4498-9627-2408e9dcb06c"
      },
      "execution_count": 5,
      "outputs": [
        {
          "output_type": "stream",
          "name": "stdout",
          "text": [
            "<class 'str'>\n",
            "<class 'int'>\n",
            "<class 'float'>\n",
            "<class 'bool'>\n"
          ]
        }
      ]
    },
    {
      "cell_type": "markdown",
      "source": [
        "## Variable manipulations"
      ],
      "metadata": {
        "id": "-_z12pNP8QBJ"
      }
    },
    {
      "cell_type": "code",
      "source": [
        "x = 5\n",
        "print(x * 5)"
      ],
      "metadata": {
        "colab": {
          "base_uri": "https://localhost:8080/"
        },
        "id": "Ug6eNTSd8SVs",
        "outputId": "3515bf0b-6c34-4d83-f88e-47fab51717b4"
      },
      "execution_count": 6,
      "outputs": [
        {
          "output_type": "stream",
          "name": "stdout",
          "text": [
            "25\n"
          ]
        }
      ]
    },
    {
      "cell_type": "code",
      "source": [
        "x = 'stock'\n",
        "print(x * 3)"
      ],
      "metadata": {
        "colab": {
          "base_uri": "https://localhost:8080/"
        },
        "id": "1W1e5zC88XPk",
        "outputId": "a9dd0973-eca3-4fd7-fb6f-3ad709e9153c"
      },
      "execution_count": 7,
      "outputs": [
        {
          "output_type": "stream",
          "name": "stdout",
          "text": [
            "stockstockstock\n"
          ]
        }
      ]
    },
    {
      "cell_type": "code",
      "source": [
        "x * 3"
      ],
      "metadata": {
        "colab": {
          "base_uri": "https://localhost:8080/",
          "height": 35
        },
        "id": "I1W1KTsL8fMX",
        "outputId": "5223f83f-81f4-41ff-dd00-f169cd01bde2"
      },
      "execution_count": 8,
      "outputs": [
        {
          "output_type": "execute_result",
          "data": {
            "text/plain": [
              "'stockstockstock'"
            ],
            "application/vnd.google.colaboratory.intrinsic+json": {
              "type": "string"
            }
          },
          "metadata": {},
          "execution_count": 8
        }
      ]
    },
    {
      "cell_type": "code",
      "source": [
        "x + str(3)"
      ],
      "metadata": {
        "colab": {
          "base_uri": "https://localhost:8080/",
          "height": 35
        },
        "id": "2PKQ4zzw89Pa",
        "outputId": "8ffc5cc3-1871-459d-e8f2-8814bbe998f1"
      },
      "execution_count": 9,
      "outputs": [
        {
          "output_type": "execute_result",
          "data": {
            "text/plain": [
              "'stock3'"
            ],
            "application/vnd.google.colaboratory.intrinsic+json": {
              "type": "string"
            }
          },
          "metadata": {},
          "execution_count": 9
        }
      ]
    }
  ]
}