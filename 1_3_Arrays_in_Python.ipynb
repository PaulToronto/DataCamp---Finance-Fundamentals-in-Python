{
  "nbformat": 4,
  "nbformat_minor": 0,
  "metadata": {
    "colab": {
      "provenance": [],
      "toc_visible": true,
      "authorship_tag": "ABX9TyOZs1f6cqTwjhRztsBrX3Yx",
      "include_colab_link": true
    },
    "kernelspec": {
      "name": "python3",
      "display_name": "Python 3"
    },
    "language_info": {
      "name": "python"
    }
  },
  "cells": [
    {
      "cell_type": "markdown",
      "metadata": {
        "id": "view-in-github",
        "colab_type": "text"
      },
      "source": [
        "<a href=\"https://colab.research.google.com/github/PaulToronto/DataCamp---Finance-Fundamentals-in-Python/blob/main/1_3_Arrays_in_Python.ipynb\" target=\"_parent\"><img src=\"https://colab.research.google.com/assets/colab-badge.svg\" alt=\"Open In Colab\"/></a>"
      ]
    },
    {
      "cell_type": "markdown",
      "source": [
        "# 1.3 - Arrays in Python"
      ],
      "metadata": {
        "id": "qIGWsxEONhQ6"
      }
    },
    {
      "cell_type": "code",
      "source": [
        "import numpy as np"
      ],
      "metadata": {
        "id": "6vDBiTtZU9-a"
      },
      "execution_count": 1,
      "outputs": []
    },
    {
      "cell_type": "markdown",
      "source": [
        "## Arrays"
      ],
      "metadata": {
        "id": "zwbSZ-_tNxg_"
      }
    },
    {
      "cell_type": "code",
      "source": [
        "my_array = np.array([0, 1, 2, 3, 4])\n",
        "my_array"
      ],
      "metadata": {
        "colab": {
          "base_uri": "https://localhost:8080/"
        },
        "id": "8oBt8HG8VEIp",
        "outputId": "ea35ab20-861e-4cf4-dcde-6f2a4e5dabb0"
      },
      "execution_count": 2,
      "outputs": [
        {
          "output_type": "execute_result",
          "data": {
            "text/plain": [
              "array([0, 1, 2, 3, 4])"
            ]
          },
          "metadata": {},
          "execution_count": 2
        }
      ]
    },
    {
      "cell_type": "code",
      "source": [
        "print(my_array)"
      ],
      "metadata": {
        "colab": {
          "base_uri": "https://localhost:8080/"
        },
        "id": "A2vn4N-3VP8c",
        "outputId": "56c99d25-5796-4030-d23b-0540bcf8bc7b"
      },
      "execution_count": 3,
      "outputs": [
        {
          "output_type": "stream",
          "name": "stdout",
          "text": [
            "[0 1 2 3 4]\n"
          ]
        }
      ]
    },
    {
      "cell_type": "code",
      "source": [
        "type(my_array)"
      ],
      "metadata": {
        "colab": {
          "base_uri": "https://localhost:8080/"
        },
        "id": "oapax6qyVYG-",
        "outputId": "cb127d19-d080-4365-e045-f18a521fc478"
      },
      "execution_count": 4,
      "outputs": [
        {
          "output_type": "execute_result",
          "data": {
            "text/plain": [
              "numpy.ndarray"
            ]
          },
          "metadata": {},
          "execution_count": 4
        }
      ]
    },
    {
      "cell_type": "code",
      "source": [
        "my_array.dtype"
      ],
      "metadata": {
        "colab": {
          "base_uri": "https://localhost:8080/"
        },
        "id": "BxYyK_CsVfyq",
        "outputId": "97cf2dd6-1cc9-44ee-e288-556502549da2"
      },
      "execution_count": 5,
      "outputs": [
        {
          "output_type": "execute_result",
          "data": {
            "text/plain": [
              "dtype('int64')"
            ]
          },
          "metadata": {},
          "execution_count": 5
        }
      ]
    },
    {
      "cell_type": "code",
      "source": [
        "my_array = np.array([3, 'is', True])\n",
        "print(my_array)\n",
        "my_array.dtype"
      ],
      "metadata": {
        "colab": {
          "base_uri": "https://localhost:8080/"
        },
        "id": "YxABuBseWg72",
        "outputId": "80a9a39c-9f50-4e09-ad85-52b6b2d64940"
      },
      "execution_count": 6,
      "outputs": [
        {
          "output_type": "stream",
          "name": "stdout",
          "text": [
            "['3' 'is' 'True']\n"
          ]
        },
        {
          "output_type": "execute_result",
          "data": {
            "text/plain": [
              "dtype('<U21')"
            ]
          },
          "metadata": {},
          "execution_count": 6
        }
      ]
    },
    {
      "cell_type": "markdown",
      "source": [
        "## Array operations"
      ],
      "metadata": {
        "id": "Rf8SRuxJXs-u"
      }
    },
    {
      "cell_type": "code",
      "source": [
        "array_A = np.array([1, 2, 3])\n",
        "array_B = np.array([4, 5, 6])\n",
        "\n",
        "list_A = [1, 2, 3]\n",
        "list_B = [3, 4, 5]\n",
        "\n",
        "# element-wise vs. concatenation\n",
        "array_A + array_B, list_A + list_B"
      ],
      "metadata": {
        "colab": {
          "base_uri": "https://localhost:8080/"
        },
        "id": "bpQMj_U0X2Rb",
        "outputId": "c022ec69-0deb-4887-f213-917492b13996"
      },
      "execution_count": 7,
      "outputs": [
        {
          "output_type": "execute_result",
          "data": {
            "text/plain": [
              "(array([5, 7, 9]), [1, 2, 3, 3, 4, 5])"
            ]
          },
          "metadata": {},
          "execution_count": 7
        }
      ]
    },
    {
      "cell_type": "markdown",
      "source": [
        "## Array indexing"
      ],
      "metadata": {
        "id": "2FwxuPNjZOlD"
      }
    },
    {
      "cell_type": "code",
      "source": [
        "months_array = np.array(['Jan', 'Feb', 'March', 'Apr', 'May'])\n",
        "months_array"
      ],
      "metadata": {
        "colab": {
          "base_uri": "https://localhost:8080/"
        },
        "id": "YhlHFVHXZSOq",
        "outputId": "4af7721c-c021-4d47-bd3b-7ce57fcecf5e"
      },
      "execution_count": 8,
      "outputs": [
        {
          "output_type": "execute_result",
          "data": {
            "text/plain": [
              "array(['Jan', 'Feb', 'March', 'Apr', 'May'], dtype='<U5')"
            ]
          },
          "metadata": {},
          "execution_count": 8
        }
      ]
    },
    {
      "cell_type": "code",
      "source": [
        "months_array[3]"
      ],
      "metadata": {
        "colab": {
          "base_uri": "https://localhost:8080/",
          "height": 34
        },
        "id": "xV17Q8wVZiWx",
        "outputId": "0c801d4e-ac5d-4f2b-918f-12c9ecc197c8"
      },
      "execution_count": 9,
      "outputs": [
        {
          "output_type": "execute_result",
          "data": {
            "text/plain": [
              "np.str_('Apr')"
            ],
            "application/vnd.google.colaboratory.intrinsic+json": {
              "type": "string"
            }
          },
          "metadata": {},
          "execution_count": 9
        }
      ]
    },
    {
      "cell_type": "code",
      "source": [
        "print(months_array[3])"
      ],
      "metadata": {
        "colab": {
          "base_uri": "https://localhost:8080/"
        },
        "id": "mDdB9z9zZmoZ",
        "outputId": "3aa49482-1ac5-4b13-dac8-08bd7202f343"
      },
      "execution_count": 10,
      "outputs": [
        {
          "output_type": "stream",
          "name": "stdout",
          "text": [
            "Apr\n"
          ]
        }
      ]
    },
    {
      "cell_type": "markdown",
      "source": [
        "## Array slicing"
      ],
      "metadata": {
        "id": "NqiYBAyLa5JU"
      }
    },
    {
      "cell_type": "code",
      "source": [
        "print(months_array[2:5])"
      ],
      "metadata": {
        "colab": {
          "base_uri": "https://localhost:8080/"
        },
        "id": "GqvuUAmlatNF",
        "outputId": "5c086ea3-e642-44f5-fa52-a436f667b0dd"
      },
      "execution_count": 11,
      "outputs": [
        {
          "output_type": "stream",
          "name": "stdout",
          "text": [
            "['March' 'Apr' 'May']\n"
          ]
        }
      ]
    },
    {
      "cell_type": "markdown",
      "source": [
        "## Array slicing with steps"
      ],
      "metadata": {
        "id": "KyQU4sssa8_T"
      }
    },
    {
      "cell_type": "code",
      "source": [
        "print(months_array[0:5:2])"
      ],
      "metadata": {
        "colab": {
          "base_uri": "https://localhost:8080/"
        },
        "id": "8IhJnKZ7bAUQ",
        "outputId": "9a171acd-fd8f-48a0-ec02-940f37a0eab8"
      },
      "execution_count": 12,
      "outputs": [
        {
          "output_type": "stream",
          "name": "stdout",
          "text": [
            "['Jan' 'March' 'May']\n"
          ]
        }
      ]
    },
    {
      "cell_type": "code",
      "source": [
        "months_array[0::2]"
      ],
      "metadata": {
        "colab": {
          "base_uri": "https://localhost:8080/"
        },
        "id": "Fr-hbjP6bJ1o",
        "outputId": "955ceeed-5385-49a1-f75b-46f92226e5df"
      },
      "execution_count": 13,
      "outputs": [
        {
          "output_type": "execute_result",
          "data": {
            "text/plain": [
              "array(['Jan', 'March', 'May'], dtype='<U5')"
            ]
          },
          "metadata": {},
          "execution_count": 13
        }
      ]
    },
    {
      "cell_type": "code",
      "source": [
        "months_array[::2]"
      ],
      "metadata": {
        "colab": {
          "base_uri": "https://localhost:8080/"
        },
        "id": "mMSfBjZXbNvc",
        "outputId": "3dced9b6-b39e-4a0b-a76e-6a1726fae601"
      },
      "execution_count": 14,
      "outputs": [
        {
          "output_type": "execute_result",
          "data": {
            "text/plain": [
              "array(['Jan', 'March', 'May'], dtype='<U5')"
            ]
          },
          "metadata": {},
          "execution_count": 14
        }
      ]
    },
    {
      "cell_type": "markdown",
      "source": [
        "## 2D arrays and functions"
      ],
      "metadata": {
        "id": "sVWk80txc_6P"
      }
    },
    {
      "cell_type": "code",
      "source": [
        "months = [1, 2, 3]\n",
        "prices = [238.11, 237.81, 238.91]\n",
        "\n",
        "cpi_array = np.array([months, prices])\n",
        "cpi_array"
      ],
      "metadata": {
        "colab": {
          "base_uri": "https://localhost:8080/"
        },
        "id": "mgrQb58Md-MP",
        "outputId": "fdaf2fed-3016-4e23-d6ba-796c245f1d34"
      },
      "execution_count": 15,
      "outputs": [
        {
          "output_type": "execute_result",
          "data": {
            "text/plain": [
              "array([[  1.  ,   2.  ,   3.  ],\n",
              "       [238.11, 237.81, 238.91]])"
            ]
          },
          "metadata": {},
          "execution_count": 15
        }
      ]
    },
    {
      "cell_type": "code",
      "source": [
        "print(cpi_array)"
      ],
      "metadata": {
        "colab": {
          "base_uri": "https://localhost:8080/"
        },
        "id": "O-Kj9LYUeifa",
        "outputId": "da08c05b-222f-4519-f66b-2a061c24b066"
      },
      "execution_count": 16,
      "outputs": [
        {
          "output_type": "stream",
          "name": "stdout",
          "text": [
            "[[  1.     2.     3.  ]\n",
            " [238.11 237.81 238.91]]\n"
          ]
        }
      ]
    },
    {
      "cell_type": "markdown",
      "source": [
        "## Array methods and properties\n",
        "\n",
        "- `shape`: gives you the dimensions of the array\n",
        "- `size`: gives you the total number of elements in the array\n",
        "- `mean()`\n",
        "- `std()`\n",
        "- `np.arange()`\n",
        "- `transpose()`"
      ],
      "metadata": {
        "id": "pjlGhnQ2few_"
      }
    },
    {
      "cell_type": "code",
      "source": [
        "cpi_array.shape, cpi_array.size"
      ],
      "metadata": {
        "colab": {
          "base_uri": "https://localhost:8080/"
        },
        "id": "bg964R4wfhQw",
        "outputId": "48fde9a3-bf5d-4d87-e1d5-d41d3de0ec1d"
      },
      "execution_count": 17,
      "outputs": [
        {
          "output_type": "execute_result",
          "data": {
            "text/plain": [
              "((2, 3), 6)"
            ]
          },
          "metadata": {},
          "execution_count": 17
        }
      ]
    },
    {
      "cell_type": "code",
      "source": [
        "np.mean(cpi_array), cpi_array.mean()"
      ],
      "metadata": {
        "colab": {
          "base_uri": "https://localhost:8080/"
        },
        "id": "opI68H7xivIe",
        "outputId": "6a02cf40-f4f3-4ecd-f1df-3a7cbf506156"
      },
      "execution_count": 18,
      "outputs": [
        {
          "output_type": "execute_result",
          "data": {
            "text/plain": [
              "(np.float64(120.13833333333334), np.float64(120.13833333333334))"
            ]
          },
          "metadata": {},
          "execution_count": 18
        }
      ]
    },
    {
      "cell_type": "code",
      "source": [
        "np.std(cpi_array), cpi_array.std()"
      ],
      "metadata": {
        "colab": {
          "base_uri": "https://localhost:8080/"
        },
        "id": "gthfwZGTi0b7",
        "outputId": "889e5aac-246b-40a2-dc5d-fc8d7c59338d"
      },
      "execution_count": 19,
      "outputs": [
        {
          "output_type": "execute_result",
          "data": {
            "text/plain": [
              "(np.float64(118.1402002448315), np.float64(118.1402002448315))"
            ]
          },
          "metadata": {},
          "execution_count": 19
        }
      ]
    },
    {
      "cell_type": "code",
      "source": [
        "np.arange(1, 13)"
      ],
      "metadata": {
        "colab": {
          "base_uri": "https://localhost:8080/"
        },
        "id": "Ty13vPghjfCf",
        "outputId": "ed919e08-3157-49a4-be08-cc7c4c0fe562"
      },
      "execution_count": 20,
      "outputs": [
        {
          "output_type": "execute_result",
          "data": {
            "text/plain": [
              "array([ 1,  2,  3,  4,  5,  6,  7,  8,  9, 10, 11, 12])"
            ]
          },
          "metadata": {},
          "execution_count": 20
        }
      ]
    },
    {
      "cell_type": "code",
      "source": [
        "np.arange(4)"
      ],
      "metadata": {
        "colab": {
          "base_uri": "https://localhost:8080/"
        },
        "id": "PaD1ysNZjzca",
        "outputId": "ae9e6f02-3c0d-4619-c4df-1d9e1cb4bbe1"
      },
      "execution_count": 21,
      "outputs": [
        {
          "output_type": "execute_result",
          "data": {
            "text/plain": [
              "array([0, 1, 2, 3])"
            ]
          },
          "metadata": {},
          "execution_count": 21
        }
      ]
    },
    {
      "cell_type": "code",
      "source": [
        "np.arange(1, 13, 2)"
      ],
      "metadata": {
        "colab": {
          "base_uri": "https://localhost:8080/"
        },
        "id": "L1jjyXtBj3t-",
        "outputId": "89097019-75c8-460f-b926-0922ccb75e83"
      },
      "execution_count": 22,
      "outputs": [
        {
          "output_type": "execute_result",
          "data": {
            "text/plain": [
              "array([ 1,  3,  5,  7,  9, 11])"
            ]
          },
          "metadata": {},
          "execution_count": 22
        }
      ]
    },
    {
      "cell_type": "code",
      "source": [
        "cpi_array.transpose()"
      ],
      "metadata": {
        "colab": {
          "base_uri": "https://localhost:8080/"
        },
        "id": "bZdt9WEUkJvQ",
        "outputId": "04124726-9cf5-45e0-a9c0-b0b52b2ce3cf"
      },
      "execution_count": 23,
      "outputs": [
        {
          "output_type": "execute_result",
          "data": {
            "text/plain": [
              "array([[  1.  , 238.11],\n",
              "       [  2.  , 237.81],\n",
              "       [  3.  , 238.91]])"
            ]
          },
          "metadata": {},
          "execution_count": 23
        }
      ]
    },
    {
      "cell_type": "code",
      "source": [
        "cpi_array"
      ],
      "metadata": {
        "colab": {
          "base_uri": "https://localhost:8080/"
        },
        "id": "Fk-gktC1kQ-E",
        "outputId": "5c86616c-5c9d-4544-e260-32162cd0cb8f"
      },
      "execution_count": 24,
      "outputs": [
        {
          "output_type": "execute_result",
          "data": {
            "text/plain": [
              "array([[  1.  ,   2.  ,   3.  ],\n",
              "       [238.11, 237.81, 238.91]])"
            ]
          },
          "metadata": {},
          "execution_count": 24
        }
      ]
    },
    {
      "cell_type": "code",
      "source": [
        "np.transpose(cpi_array)"
      ],
      "metadata": {
        "colab": {
          "base_uri": "https://localhost:8080/"
        },
        "id": "YYAYn65_kToG",
        "outputId": "5bf56702-1662-4bac-bf90-0aa89f148d3e"
      },
      "execution_count": 25,
      "outputs": [
        {
          "output_type": "execute_result",
          "data": {
            "text/plain": [
              "array([[  1.  , 238.11],\n",
              "       [  2.  , 237.81],\n",
              "       [  3.  , 238.91]])"
            ]
          },
          "metadata": {},
          "execution_count": 25
        }
      ]
    },
    {
      "cell_type": "markdown",
      "source": [
        "## Array indexing for 2D arrays"
      ],
      "metadata": {
        "id": "tk057QoTkmd2"
      }
    },
    {
      "cell_type": "code",
      "source": [
        "cpi_array"
      ],
      "metadata": {
        "colab": {
          "base_uri": "https://localhost:8080/"
        },
        "id": "dBoMj4Eakv2J",
        "outputId": "b5cdcd36-c350-438a-f70d-b6e05322a1cb"
      },
      "execution_count": 26,
      "outputs": [
        {
          "output_type": "execute_result",
          "data": {
            "text/plain": [
              "array([[  1.  ,   2.  ,   3.  ],\n",
              "       [238.11, 237.81, 238.91]])"
            ]
          },
          "metadata": {},
          "execution_count": 26
        }
      ]
    },
    {
      "cell_type": "code",
      "source": [
        "cpi_array[1, 2]"
      ],
      "metadata": {
        "colab": {
          "base_uri": "https://localhost:8080/"
        },
        "id": "UILLWp-Ikpk_",
        "outputId": "600fe0ca-373b-4433-9314-c427dc00081c"
      },
      "execution_count": 27,
      "outputs": [
        {
          "output_type": "execute_result",
          "data": {
            "text/plain": [
              "np.float64(238.91)"
            ]
          },
          "metadata": {},
          "execution_count": 27
        }
      ]
    },
    {
      "cell_type": "code",
      "source": [
        "cpi_array[:, 2]"
      ],
      "metadata": {
        "colab": {
          "base_uri": "https://localhost:8080/"
        },
        "id": "MLlDQZDvlTBN",
        "outputId": "fa00d35c-3e59-43dd-cc76-9166bda27e56"
      },
      "execution_count": 28,
      "outputs": [
        {
          "output_type": "execute_result",
          "data": {
            "text/plain": [
              "array([  3.  , 238.91])"
            ]
          },
          "metadata": {},
          "execution_count": 28
        }
      ]
    },
    {
      "cell_type": "markdown",
      "source": [
        "## Using Arrays for Analysis"
      ],
      "metadata": {
        "id": "54LpWHP07deO"
      }
    },
    {
      "cell_type": "code",
      "source": [
        "months_array = np.array(['Jan', 'Feb', 'Mar', 'Apr', 'May', 'June'])\n",
        "print(months_array)"
      ],
      "metadata": {
        "colab": {
          "base_uri": "https://localhost:8080/"
        },
        "id": "Ceb5TLMR79QT",
        "outputId": "f2ad1f23-7064-428a-b3b9-3fc2aec1a56c"
      },
      "execution_count": 29,
      "outputs": [
        {
          "output_type": "stream",
          "name": "stdout",
          "text": [
            "['Jan' 'Feb' 'Mar' 'Apr' 'May' 'June']\n"
          ]
        }
      ]
    },
    {
      "cell_type": "code",
      "source": [
        "indexing_array = np.array([1, 3, 5])\n",
        "print(indexing_array)"
      ],
      "metadata": {
        "colab": {
          "base_uri": "https://localhost:8080/"
        },
        "id": "1YTC4l3L8KZ_",
        "outputId": "3829aafa-39ac-4bdd-8f76-b9205a1dd4ef"
      },
      "execution_count": 30,
      "outputs": [
        {
          "output_type": "stream",
          "name": "stdout",
          "text": [
            "[1 3 5]\n"
          ]
        }
      ]
    },
    {
      "cell_type": "code",
      "source": [
        "months_subset = months_array[indexing_array]\n",
        "print(months_subset)"
      ],
      "metadata": {
        "colab": {
          "base_uri": "https://localhost:8080/"
        },
        "id": "ozS66k6s8TdX",
        "outputId": "38dca32d-f859-4a27-8984-5501b69dd63d"
      },
      "execution_count": 31,
      "outputs": [
        {
          "output_type": "stream",
          "name": "stdout",
          "text": [
            "['Feb' 'Apr' 'June']\n"
          ]
        }
      ]
    },
    {
      "cell_type": "code",
      "source": [
        "# example with negative indices\n",
        "print(months_array)\n",
        "\n",
        "negative_index = np.array([-1, -2])\n",
        "print(negative_index)\n",
        "\n",
        "print(months_array[negative_index])"
      ],
      "metadata": {
        "colab": {
          "base_uri": "https://localhost:8080/"
        },
        "id": "22sQuYkb-86q",
        "outputId": "43b6e92d-ec2c-4d38-ffb0-abc528438450"
      },
      "execution_count": 32,
      "outputs": [
        {
          "output_type": "stream",
          "name": "stdout",
          "text": [
            "['Jan' 'Feb' 'Mar' 'Apr' 'May' 'June']\n",
            "[-1 -2]\n",
            "['June' 'May']\n"
          ]
        }
      ]
    },
    {
      "cell_type": "markdown",
      "source": [
        "## Boolean arrays to manipulate other arrays"
      ],
      "metadata": {
        "id": "uvNbAgBJFpiF"
      }
    },
    {
      "cell_type": "code",
      "source": [
        "print(months_array)\n",
        "\n",
        "boolean_array = np.array([True, True, True, False, False, False])\n",
        "\n",
        "print(months_array[boolean_array])"
      ],
      "metadata": {
        "colab": {
          "base_uri": "https://localhost:8080/"
        },
        "id": "XbJJVB_VFur0",
        "outputId": "404c3ee2-539a-4958-ad8c-47cb9024ead5"
      },
      "execution_count": 33,
      "outputs": [
        {
          "output_type": "stream",
          "name": "stdout",
          "text": [
            "['Jan' 'Feb' 'Mar' 'Apr' 'May' 'June']\n",
            "['Jan' 'Feb' 'Mar']\n"
          ]
        }
      ]
    },
    {
      "cell_type": "code",
      "source": [
        "prices_array = np.array([238.11, 237.81, 238.91])\n",
        "print(prices_array)\n",
        "\n",
        "boolean_array = (prices_array > 238)\n",
        "print(boolean_array)\n",
        "\n",
        "print(prices_array[boolean_array])"
      ],
      "metadata": {
        "colab": {
          "base_uri": "https://localhost:8080/"
        },
        "id": "BVX4zGBEGZsV",
        "outputId": "b1fb9a20-35c4-440b-ee41-e880e857e60c"
      },
      "execution_count": 34,
      "outputs": [
        {
          "output_type": "stream",
          "name": "stdout",
          "text": [
            "[238.11 237.81 238.91]\n",
            "[ True False  True]\n",
            "[238.11 238.91]\n"
          ]
        }
      ]
    },
    {
      "cell_type": "code",
      "source": [
        "sectors = np.array(['Information Technology', 'Health Care', 'Health Care',\n",
        "                    'Information Technologies', 'Health Care'])\n",
        "names = np.array(['Apple Inc', 'Abbvie Inc', 'Abbott Laboratories',\n",
        "                  'Accenture Technologies', 'Allergan Plc'])\n",
        "\n",
        "print(sectors)\n",
        "print(names)\n",
        "\n",
        "# Create boolean array\n",
        "boolean_array = (sectors == 'Health Care')\n",
        "print(boolean_array)\n",
        "\n",
        "# Print only health care companies\n",
        "health_care = names[boolean_array]\n",
        "print(health_care)"
      ],
      "metadata": {
        "colab": {
          "base_uri": "https://localhost:8080/"
        },
        "id": "94WgdjC9H7JR",
        "outputId": "e271ac24-8767-4356-83bf-77d4c4e65fca"
      },
      "execution_count": 35,
      "outputs": [
        {
          "output_type": "stream",
          "name": "stdout",
          "text": [
            "['Information Technology' 'Health Care' 'Health Care'\n",
            " 'Information Technologies' 'Health Care']\n",
            "['Apple Inc' 'Abbvie Inc' 'Abbott Laboratories' 'Accenture Technologies'\n",
            " 'Allergan Plc']\n",
            "[False  True  True False  True]\n",
            "['Abbvie Inc' 'Abbott Laboratories' 'Allergan Plc']\n"
          ]
        }
      ]
    }
  ]
}