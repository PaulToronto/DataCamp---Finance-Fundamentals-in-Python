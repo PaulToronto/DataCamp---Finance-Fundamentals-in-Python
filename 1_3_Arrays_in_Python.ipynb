{
  "nbformat": 4,
  "nbformat_minor": 0,
  "metadata": {
    "colab": {
      "provenance": [],
      "toc_visible": true,
      "authorship_tag": "ABX9TyNszfDyly79tcJrJN8hXzss",
      "include_colab_link": true
    },
    "kernelspec": {
      "name": "python3",
      "display_name": "Python 3"
    },
    "language_info": {
      "name": "python"
    }
  },
  "cells": [
    {
      "cell_type": "markdown",
      "metadata": {
        "id": "view-in-github",
        "colab_type": "text"
      },
      "source": [
        "<a href=\"https://colab.research.google.com/github/PaulToronto/DataCamp---Finance-Fundamentals-in-Python/blob/main/1_3_Arrays_in_Python.ipynb\" target=\"_parent\"><img src=\"https://colab.research.google.com/assets/colab-badge.svg\" alt=\"Open In Colab\"/></a>"
      ]
    },
    {
      "cell_type": "markdown",
      "source": [
        "# 1.3 - Arrays in Python"
      ],
      "metadata": {
        "id": "qIGWsxEONhQ6"
      }
    },
    {
      "cell_type": "code",
      "source": [
        "import numpy as np"
      ],
      "metadata": {
        "id": "6vDBiTtZU9-a"
      },
      "execution_count": 1,
      "outputs": []
    },
    {
      "cell_type": "markdown",
      "source": [
        "## Arrays"
      ],
      "metadata": {
        "id": "zwbSZ-_tNxg_"
      }
    },
    {
      "cell_type": "code",
      "source": [
        "my_array = np.array([0, 1, 2, 3, 4])\n",
        "my_array"
      ],
      "metadata": {
        "colab": {
          "base_uri": "https://localhost:8080/"
        },
        "id": "8oBt8HG8VEIp",
        "outputId": "c71772b2-d8a7-4eef-eb98-d6f33f57f152"
      },
      "execution_count": 2,
      "outputs": [
        {
          "output_type": "execute_result",
          "data": {
            "text/plain": [
              "array([0, 1, 2, 3, 4])"
            ]
          },
          "metadata": {},
          "execution_count": 2
        }
      ]
    },
    {
      "cell_type": "code",
      "source": [
        "print(my_array)"
      ],
      "metadata": {
        "colab": {
          "base_uri": "https://localhost:8080/"
        },
        "id": "A2vn4N-3VP8c",
        "outputId": "b4582600-3ea6-4180-8827-0fa8fd99ea06"
      },
      "execution_count": 3,
      "outputs": [
        {
          "output_type": "stream",
          "name": "stdout",
          "text": [
            "[0 1 2 3 4]\n"
          ]
        }
      ]
    },
    {
      "cell_type": "code",
      "source": [
        "type(my_array)"
      ],
      "metadata": {
        "colab": {
          "base_uri": "https://localhost:8080/"
        },
        "id": "oapax6qyVYG-",
        "outputId": "36819d42-f293-463d-daeb-d91a3905f9d1"
      },
      "execution_count": 4,
      "outputs": [
        {
          "output_type": "execute_result",
          "data": {
            "text/plain": [
              "numpy.ndarray"
            ]
          },
          "metadata": {},
          "execution_count": 4
        }
      ]
    },
    {
      "cell_type": "code",
      "source": [
        "my_array.dtype"
      ],
      "metadata": {
        "colab": {
          "base_uri": "https://localhost:8080/"
        },
        "id": "BxYyK_CsVfyq",
        "outputId": "c88d8ecb-2cfc-499c-c8db-cf55c78575eb"
      },
      "execution_count": 5,
      "outputs": [
        {
          "output_type": "execute_result",
          "data": {
            "text/plain": [
              "dtype('int64')"
            ]
          },
          "metadata": {},
          "execution_count": 5
        }
      ]
    },
    {
      "cell_type": "code",
      "source": [
        "my_array = np.array([3, 'is', True])\n",
        "print(my_array)\n",
        "my_array.dtype"
      ],
      "metadata": {
        "colab": {
          "base_uri": "https://localhost:8080/"
        },
        "id": "YxABuBseWg72",
        "outputId": "89dda117-7d53-4ca2-95a3-f40bebda959c"
      },
      "execution_count": 6,
      "outputs": [
        {
          "output_type": "stream",
          "name": "stdout",
          "text": [
            "['3' 'is' 'True']\n"
          ]
        },
        {
          "output_type": "execute_result",
          "data": {
            "text/plain": [
              "dtype('<U21')"
            ]
          },
          "metadata": {},
          "execution_count": 6
        }
      ]
    },
    {
      "cell_type": "markdown",
      "source": [
        "## Array operations"
      ],
      "metadata": {
        "id": "Rf8SRuxJXs-u"
      }
    },
    {
      "cell_type": "code",
      "source": [
        "array_A = np.array([1, 2, 3])\n",
        "array_B = np.array([4, 5, 6])\n",
        "\n",
        "list_A = [1, 2, 3]\n",
        "list_B = [3, 4, 5]\n",
        "\n",
        "# element-wise vs. concatenation\n",
        "array_A + array_B, list_A + list_B"
      ],
      "metadata": {
        "colab": {
          "base_uri": "https://localhost:8080/"
        },
        "id": "bpQMj_U0X2Rb",
        "outputId": "993547d6-0d95-4702-d588-8aa9041742a6"
      },
      "execution_count": 7,
      "outputs": [
        {
          "output_type": "execute_result",
          "data": {
            "text/plain": [
              "(array([5, 7, 9]), [1, 2, 3, 3, 4, 5])"
            ]
          },
          "metadata": {},
          "execution_count": 7
        }
      ]
    },
    {
      "cell_type": "markdown",
      "source": [
        "## Array indexing"
      ],
      "metadata": {
        "id": "2FwxuPNjZOlD"
      }
    },
    {
      "cell_type": "code",
      "source": [
        "months_array = np.array(['Jan', 'Feb', 'March', 'Apr', 'May'])\n",
        "months_array"
      ],
      "metadata": {
        "colab": {
          "base_uri": "https://localhost:8080/"
        },
        "id": "YhlHFVHXZSOq",
        "outputId": "46874d75-081c-42a4-d1bc-63dc3eb1aac6"
      },
      "execution_count": 8,
      "outputs": [
        {
          "output_type": "execute_result",
          "data": {
            "text/plain": [
              "array(['Jan', 'Feb', 'March', 'Apr', 'May'], dtype='<U5')"
            ]
          },
          "metadata": {},
          "execution_count": 8
        }
      ]
    },
    {
      "cell_type": "code",
      "source": [
        "months_array[3]"
      ],
      "metadata": {
        "colab": {
          "base_uri": "https://localhost:8080/",
          "height": 34
        },
        "id": "xV17Q8wVZiWx",
        "outputId": "1137fd7a-0f0d-4504-9a97-bbc20aeb9c73"
      },
      "execution_count": 9,
      "outputs": [
        {
          "output_type": "execute_result",
          "data": {
            "text/plain": [
              "np.str_('Apr')"
            ],
            "application/vnd.google.colaboratory.intrinsic+json": {
              "type": "string"
            }
          },
          "metadata": {},
          "execution_count": 9
        }
      ]
    },
    {
      "cell_type": "code",
      "source": [
        "print(months_array[3])"
      ],
      "metadata": {
        "colab": {
          "base_uri": "https://localhost:8080/"
        },
        "id": "mDdB9z9zZmoZ",
        "outputId": "4cc045b8-640b-459e-c4f9-e120865da965"
      },
      "execution_count": 10,
      "outputs": [
        {
          "output_type": "stream",
          "name": "stdout",
          "text": [
            "Apr\n"
          ]
        }
      ]
    },
    {
      "cell_type": "markdown",
      "source": [
        "## Array slicing"
      ],
      "metadata": {
        "id": "NqiYBAyLa5JU"
      }
    },
    {
      "cell_type": "code",
      "source": [
        "print(months_array[2:5])"
      ],
      "metadata": {
        "colab": {
          "base_uri": "https://localhost:8080/"
        },
        "id": "GqvuUAmlatNF",
        "outputId": "a9a51aab-4589-48a5-c94b-b6a9e1c02b49"
      },
      "execution_count": 11,
      "outputs": [
        {
          "output_type": "stream",
          "name": "stdout",
          "text": [
            "['March' 'Apr' 'May']\n"
          ]
        }
      ]
    },
    {
      "cell_type": "markdown",
      "source": [
        "## Array slicing with steps"
      ],
      "metadata": {
        "id": "KyQU4sssa8_T"
      }
    },
    {
      "cell_type": "code",
      "source": [
        "print(months_array[0:5:2])"
      ],
      "metadata": {
        "colab": {
          "base_uri": "https://localhost:8080/"
        },
        "id": "8IhJnKZ7bAUQ",
        "outputId": "01838b42-3dcb-4333-ae1f-e8071944070b"
      },
      "execution_count": 12,
      "outputs": [
        {
          "output_type": "stream",
          "name": "stdout",
          "text": [
            "['Jan' 'March' 'May']\n"
          ]
        }
      ]
    },
    {
      "cell_type": "code",
      "source": [
        "months_array[0::2]"
      ],
      "metadata": {
        "colab": {
          "base_uri": "https://localhost:8080/"
        },
        "id": "Fr-hbjP6bJ1o",
        "outputId": "3d6c5225-c013-4ca9-9122-552ef441e263"
      },
      "execution_count": 13,
      "outputs": [
        {
          "output_type": "execute_result",
          "data": {
            "text/plain": [
              "array(['Jan', 'March', 'May'], dtype='<U5')"
            ]
          },
          "metadata": {},
          "execution_count": 13
        }
      ]
    },
    {
      "cell_type": "code",
      "source": [
        "months_array[::2]"
      ],
      "metadata": {
        "colab": {
          "base_uri": "https://localhost:8080/"
        },
        "id": "mMSfBjZXbNvc",
        "outputId": "60d7d521-92dd-40ec-b1f9-480ebbd2067c"
      },
      "execution_count": 14,
      "outputs": [
        {
          "output_type": "execute_result",
          "data": {
            "text/plain": [
              "array(['Jan', 'March', 'May'], dtype='<U5')"
            ]
          },
          "metadata": {},
          "execution_count": 14
        }
      ]
    },
    {
      "cell_type": "markdown",
      "source": [
        "## 2D arrays and functions"
      ],
      "metadata": {
        "id": "sVWk80txc_6P"
      }
    },
    {
      "cell_type": "code",
      "source": [
        "months = [1, 2, 3]\n",
        "prices = [238.11, 237.81, 238.91]\n",
        "\n",
        "cpi_array = np.array([months, prices])\n",
        "cpi_array"
      ],
      "metadata": {
        "colab": {
          "base_uri": "https://localhost:8080/"
        },
        "id": "mgrQb58Md-MP",
        "outputId": "f0e198f8-8d57-4cd3-fab6-14d84f7b0fd0"
      },
      "execution_count": 15,
      "outputs": [
        {
          "output_type": "execute_result",
          "data": {
            "text/plain": [
              "array([[  1.  ,   2.  ,   3.  ],\n",
              "       [238.11, 237.81, 238.91]])"
            ]
          },
          "metadata": {},
          "execution_count": 15
        }
      ]
    },
    {
      "cell_type": "code",
      "source": [
        "print(cpi_array)"
      ],
      "metadata": {
        "colab": {
          "base_uri": "https://localhost:8080/"
        },
        "id": "O-Kj9LYUeifa",
        "outputId": "fd9b9e67-f343-4a63-e4bd-b384b76da221"
      },
      "execution_count": 16,
      "outputs": [
        {
          "output_type": "stream",
          "name": "stdout",
          "text": [
            "[[  1.     2.     3.  ]\n",
            " [238.11 237.81 238.91]]\n"
          ]
        }
      ]
    },
    {
      "cell_type": "markdown",
      "source": [
        "## Array methods and properties\n",
        "\n",
        "- `shape`: gives you the dimensions of the array\n",
        "- `size`: gives you the total number of elements in the array\n",
        "- `mean()`\n",
        "- `std()`\n",
        "- `np.arange()`\n",
        "- `transpose()`"
      ],
      "metadata": {
        "id": "pjlGhnQ2few_"
      }
    },
    {
      "cell_type": "code",
      "source": [
        "cpi_array.shape, cpi_array.size"
      ],
      "metadata": {
        "colab": {
          "base_uri": "https://localhost:8080/"
        },
        "id": "bg964R4wfhQw",
        "outputId": "76d93331-f231-4465-ddf7-44a4e2832c4a"
      },
      "execution_count": 17,
      "outputs": [
        {
          "output_type": "execute_result",
          "data": {
            "text/plain": [
              "((2, 3), 6)"
            ]
          },
          "metadata": {},
          "execution_count": 17
        }
      ]
    },
    {
      "cell_type": "code",
      "source": [
        "np.mean(cpi_array), cpi_array.mean()"
      ],
      "metadata": {
        "colab": {
          "base_uri": "https://localhost:8080/"
        },
        "id": "opI68H7xivIe",
        "outputId": "cade833a-43f4-43e8-b48b-b824db17fbd0"
      },
      "execution_count": 18,
      "outputs": [
        {
          "output_type": "execute_result",
          "data": {
            "text/plain": [
              "(np.float64(120.13833333333334), np.float64(120.13833333333334))"
            ]
          },
          "metadata": {},
          "execution_count": 18
        }
      ]
    },
    {
      "cell_type": "code",
      "source": [
        "np.std(cpi_array), cpi_array.std()"
      ],
      "metadata": {
        "colab": {
          "base_uri": "https://localhost:8080/"
        },
        "id": "gthfwZGTi0b7",
        "outputId": "2a560f4d-5372-4b91-f01f-59ff9856faf7"
      },
      "execution_count": 19,
      "outputs": [
        {
          "output_type": "execute_result",
          "data": {
            "text/plain": [
              "(np.float64(118.1402002448315), np.float64(118.1402002448315))"
            ]
          },
          "metadata": {},
          "execution_count": 19
        }
      ]
    },
    {
      "cell_type": "code",
      "source": [
        "np.arange(1, 13)"
      ],
      "metadata": {
        "colab": {
          "base_uri": "https://localhost:8080/"
        },
        "id": "Ty13vPghjfCf",
        "outputId": "73665c1f-1b0d-4cde-8500-5389eee75482"
      },
      "execution_count": 20,
      "outputs": [
        {
          "output_type": "execute_result",
          "data": {
            "text/plain": [
              "array([ 1,  2,  3,  4,  5,  6,  7,  8,  9, 10, 11, 12])"
            ]
          },
          "metadata": {},
          "execution_count": 20
        }
      ]
    },
    {
      "cell_type": "code",
      "source": [
        "np.arange(4)"
      ],
      "metadata": {
        "colab": {
          "base_uri": "https://localhost:8080/"
        },
        "id": "PaD1ysNZjzca",
        "outputId": "9da77ce7-5296-4c98-eec3-fa6f0ba598e5"
      },
      "execution_count": 21,
      "outputs": [
        {
          "output_type": "execute_result",
          "data": {
            "text/plain": [
              "array([0, 1, 2, 3])"
            ]
          },
          "metadata": {},
          "execution_count": 21
        }
      ]
    },
    {
      "cell_type": "code",
      "source": [
        "np.arange(1, 13, 2)"
      ],
      "metadata": {
        "colab": {
          "base_uri": "https://localhost:8080/"
        },
        "id": "L1jjyXtBj3t-",
        "outputId": "4def53d5-abec-4640-d112-f21919f3b97b"
      },
      "execution_count": 22,
      "outputs": [
        {
          "output_type": "execute_result",
          "data": {
            "text/plain": [
              "array([ 1,  3,  5,  7,  9, 11])"
            ]
          },
          "metadata": {},
          "execution_count": 22
        }
      ]
    },
    {
      "cell_type": "code",
      "source": [
        "cpi_array.transpose()"
      ],
      "metadata": {
        "colab": {
          "base_uri": "https://localhost:8080/"
        },
        "id": "bZdt9WEUkJvQ",
        "outputId": "34df9453-65ba-48f3-c3d4-8b17683bb7c1"
      },
      "execution_count": 23,
      "outputs": [
        {
          "output_type": "execute_result",
          "data": {
            "text/plain": [
              "array([[  1.  , 238.11],\n",
              "       [  2.  , 237.81],\n",
              "       [  3.  , 238.91]])"
            ]
          },
          "metadata": {},
          "execution_count": 23
        }
      ]
    },
    {
      "cell_type": "code",
      "source": [
        "cpi_array"
      ],
      "metadata": {
        "colab": {
          "base_uri": "https://localhost:8080/"
        },
        "id": "Fk-gktC1kQ-E",
        "outputId": "1ad41c9c-6bb7-47ee-9890-4decd8cf91d0"
      },
      "execution_count": 24,
      "outputs": [
        {
          "output_type": "execute_result",
          "data": {
            "text/plain": [
              "array([[  1.  ,   2.  ,   3.  ],\n",
              "       [238.11, 237.81, 238.91]])"
            ]
          },
          "metadata": {},
          "execution_count": 24
        }
      ]
    },
    {
      "cell_type": "code",
      "source": [
        "np.transpose(cpi_array)"
      ],
      "metadata": {
        "colab": {
          "base_uri": "https://localhost:8080/"
        },
        "id": "YYAYn65_kToG",
        "outputId": "c6a217ba-785e-4a77-ff52-3b532df08344"
      },
      "execution_count": 25,
      "outputs": [
        {
          "output_type": "execute_result",
          "data": {
            "text/plain": [
              "array([[  1.  , 238.11],\n",
              "       [  2.  , 237.81],\n",
              "       [  3.  , 238.91]])"
            ]
          },
          "metadata": {},
          "execution_count": 25
        }
      ]
    },
    {
      "cell_type": "markdown",
      "source": [
        "## Array indexing for 2D arrays"
      ],
      "metadata": {
        "id": "tk057QoTkmd2"
      }
    },
    {
      "cell_type": "code",
      "source": [
        "cpi_array"
      ],
      "metadata": {
        "colab": {
          "base_uri": "https://localhost:8080/"
        },
        "id": "dBoMj4Eakv2J",
        "outputId": "586ff4f2-7ba3-4df8-9706-c3b27735210b"
      },
      "execution_count": 26,
      "outputs": [
        {
          "output_type": "execute_result",
          "data": {
            "text/plain": [
              "array([[  1.  ,   2.  ,   3.  ],\n",
              "       [238.11, 237.81, 238.91]])"
            ]
          },
          "metadata": {},
          "execution_count": 26
        }
      ]
    },
    {
      "cell_type": "code",
      "source": [
        "cpi_array[1, 2]"
      ],
      "metadata": {
        "colab": {
          "base_uri": "https://localhost:8080/"
        },
        "id": "UILLWp-Ikpk_",
        "outputId": "ec71899b-44e5-45e9-964e-73725116edb4"
      },
      "execution_count": 27,
      "outputs": [
        {
          "output_type": "execute_result",
          "data": {
            "text/plain": [
              "np.float64(238.91)"
            ]
          },
          "metadata": {},
          "execution_count": 27
        }
      ]
    },
    {
      "cell_type": "code",
      "source": [
        "cpi_array[:, 2]"
      ],
      "metadata": {
        "colab": {
          "base_uri": "https://localhost:8080/"
        },
        "id": "MLlDQZDvlTBN",
        "outputId": "57e802fe-42c1-4967-ebc1-5da8c8c97217"
      },
      "execution_count": 28,
      "outputs": [
        {
          "output_type": "execute_result",
          "data": {
            "text/plain": [
              "array([  3.  , 238.91])"
            ]
          },
          "metadata": {},
          "execution_count": 28
        }
      ]
    }
  ]
}