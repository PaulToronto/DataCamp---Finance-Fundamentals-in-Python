{
  "nbformat": 4,
  "nbformat_minor": 0,
  "metadata": {
    "colab": {
      "provenance": [],
      "toc_visible": true,
      "authorship_tag": "ABX9TyOR5suK8LcfdjX+ha7rZppI",
      "include_colab_link": true
    },
    "kernelspec": {
      "name": "python3",
      "display_name": "Python 3"
    },
    "language_info": {
      "name": "python"
    }
  },
  "cells": [
    {
      "cell_type": "markdown",
      "metadata": {
        "id": "view-in-github",
        "colab_type": "text"
      },
      "source": [
        "<a href=\"https://colab.research.google.com/github/PaulToronto/DataCamp---Finance-Fundamentals-in-Python/blob/main/2_1_Datetimes_and_Dictionaries.ipynb\" target=\"_parent\"><img src=\"https://colab.research.google.com/assets/colab-badge.svg\" alt=\"Open In Colab\"/></a>"
      ]
    },
    {
      "cell_type": "markdown",
      "source": [
        "# 2.1 - Datetimes and Dictionaries"
      ],
      "metadata": {
        "id": "BlyQJhLMTdV0"
      }
    },
    {
      "cell_type": "code",
      "source": [
        "from datetime import datetime"
      ],
      "metadata": {
        "id": "xaHPwMDuVLbc"
      },
      "execution_count": 1,
      "outputs": []
    },
    {
      "cell_type": "markdown",
      "source": [
        "## Datetimes"
      ],
      "metadata": {
        "id": "-MSg7IboVpjz"
      }
    },
    {
      "cell_type": "code",
      "source": [
        "black_monday = datetime(1987, 10, 19)\n",
        "black_monday"
      ],
      "metadata": {
        "colab": {
          "base_uri": "https://localhost:8080/"
        },
        "id": "Uv2AnVikVsKs",
        "outputId": "b5775f96-3ac3-4af0-dfeb-c4836fa8f64e"
      },
      "execution_count": 2,
      "outputs": [
        {
          "output_type": "execute_result",
          "data": {
            "text/plain": [
              "datetime.datetime(1987, 10, 19, 0, 0)"
            ]
          },
          "metadata": {},
          "execution_count": 2
        }
      ]
    },
    {
      "cell_type": "code",
      "source": [
        "print(black_monday)"
      ],
      "metadata": {
        "colab": {
          "base_uri": "https://localhost:8080/"
        },
        "id": "TVzkFZMBVxl9",
        "outputId": "3a6c9f92-a1f3-4562-c250-dfa346c1e556"
      },
      "execution_count": 3,
      "outputs": [
        {
          "output_type": "stream",
          "name": "stdout",
          "text": [
            "1987-10-19 00:00:00\n"
          ]
        }
      ]
    },
    {
      "cell_type": "code",
      "source": [
        "today = datetime.now()\n",
        "today"
      ],
      "metadata": {
        "colab": {
          "base_uri": "https://localhost:8080/"
        },
        "id": "b_cHpxuubyoA",
        "outputId": "cf7d05f5-eb57-4b10-92bb-0e3e5d45e961"
      },
      "execution_count": 4,
      "outputs": [
        {
          "output_type": "execute_result",
          "data": {
            "text/plain": [
              "datetime.datetime(2025, 10, 18, 16, 16, 57, 42243)"
            ]
          },
          "metadata": {},
          "execution_count": 4
        }
      ]
    },
    {
      "cell_type": "code",
      "source": [
        "print(today)"
      ],
      "metadata": {
        "colab": {
          "base_uri": "https://localhost:8080/"
        },
        "id": "_bjs8vQVb272",
        "outputId": "2e01a3ef-6d48-4653-e79a-96221211a827"
      },
      "execution_count": 5,
      "outputs": [
        {
          "output_type": "stream",
          "name": "stdout",
          "text": [
            "2025-10-18 16:16:57.042243\n"
          ]
        }
      ]
    },
    {
      "cell_type": "code",
      "source": [
        "today.microsecond"
      ],
      "metadata": {
        "colab": {
          "base_uri": "https://localhost:8080/"
        },
        "id": "tuwACTbnb8Cc",
        "outputId": "4a3535ce-fbc6-403f-e42b-e40b2a3f6d20"
      },
      "execution_count": 6,
      "outputs": [
        {
          "output_type": "execute_result",
          "data": {
            "text/plain": [
              "42243"
            ]
          },
          "metadata": {},
          "execution_count": 6
        }
      ]
    },
    {
      "cell_type": "markdown",
      "source": [
        "## Datetime from string\n",
        "\n",
        "<table>\n",
        "  <thead>\n",
        "    <tr>\n",
        "      <th>Directive</th>\n",
        "      <th>Meaning</th>\n",
        "      <th>Example</th>\n",
        "    </tr>\n",
        "  </thead>\n",
        "  <tbody>\n",
        "    <tr><td><code>%Y</code></td><td>Year with century</td><td>2025</td></tr>\n",
        "    <tr><td><code>%y</code></td><td>Year without century</td><td>25</td></tr>\n",
        "    <tr><td><code>%m</code></td><td>Month as zero-padded decimal</td><td>01..12</td></tr>\n",
        "    <tr><td><code>%B</code></td><td>Full month name</td><td>October</td></tr>\n",
        "    <tr><td><code>%b</code></td><td>Abbreviated month name</td><td>Oct</td></tr>\n",
        "    <tr><td><code>%d</code></td><td>Day of the month (zero-padded)</td><td>01..31</td></tr>\n",
        "    <tr><td><code>%A</code></td><td>Full weekday name</td><td>Tuesday</td></tr>\n",
        "    <tr><td><code>%a</code></td><td>Abbreviated weekday name</td><td>Tue</td></tr>\n",
        "    <tr><td><code>%w</code></td><td>Weekday as a number (0=Sunday)</td><td>0..6</td></tr>\n",
        "    <tr><td><code>%H</code></td><td>Hour (24-hour clock)</td><td>00..23</td></tr>\n",
        "    <tr><td><code>%I</code></td><td>Hour (12-hour clock)</td><td>01..12</td></tr>\n",
        "    <tr><td><code>%p</code></td><td>AM/PM</td><td>AM</td></tr>\n",
        "    <tr><td><code>%M</code></td><td>Minute</td><td>00..59</td></tr>\n",
        "    <tr><td><code>%S</code></td><td>Second</td><td>00..59</td></tr>\n",
        "    <tr><td><code>%f</code></td><td>Microsecond (6 digits)</td><td>000000..999999</td></tr>\n",
        "    <tr><td><code>%z</code></td><td>UTC offset</td><td>+0000</td></tr>\n",
        "    <tr><td><code>%Z</code></td><td>Time zone name</td><td>UTC, EST, etc.</td></tr>\n",
        "    <tr><td><code>%j</code></td><td>Day of the year</td><td>001..366</td></tr>\n",
        "    <tr><td><code>%U</code></td><td>Week number (Sunday as first day)</td><td>00..53</td></tr>\n",
        "    <tr><td><code>%W</code></td><td>Week number (Monday as first day)</td><td>00..53</td></tr>\n",
        "    <tr><td><code>%c</code></td><td>Locale date and time</td><td>Tue Oct 14 12:30:45 2025</td></tr>\n",
        "    <tr><td><code>%x</code></td><td>Locale date</td><td>10/14/25</td></tr>\n",
        "    <tr><td><code>%X</code></td><td>Locale time</td><td>12:30:45</td></tr>\n",
        "    <tr><td><code>%%</code></td><td>Literal '%' character</td><td>%</td></tr>\n",
        "  </tbody>\n",
        "</table>"
      ],
      "metadata": {
        "id": "D0QzbkMhcPHi"
      }
    },
    {
      "cell_type": "code",
      "source": [
        "black_monday_string = 'Monday October 19 1987 9:30 am'\n",
        "\n",
        "format_str = \"%A %B %d %Y %I:%M %p\"\n",
        "\n",
        "datetime.strptime(black_monday_string, format_str)"
      ],
      "metadata": {
        "colab": {
          "base_uri": "https://localhost:8080/"
        },
        "id": "-KtcczovcRNK",
        "outputId": "e05c52b4-ca1e-407a-82c8-be36a475069f"
      },
      "execution_count": 7,
      "outputs": [
        {
          "output_type": "execute_result",
          "data": {
            "text/plain": [
              "datetime.datetime(1987, 10, 19, 9, 30)"
            ]
          },
          "metadata": {},
          "execution_count": 7
        }
      ]
    },
    {
      "cell_type": "code",
      "source": [
        "crash_of_1837 = '1837-05-10'\n",
        "\n",
        "datetime.strptime(crash_of_1837, '%Y-%m-%d')"
      ],
      "metadata": {
        "colab": {
          "base_uri": "https://localhost:8080/"
        },
        "id": "UJ5qRTWafva7",
        "outputId": "144a3b35-1634-461f-9454-87abeee71607"
      },
      "execution_count": 8,
      "outputs": [
        {
          "output_type": "execute_result",
          "data": {
            "text/plain": [
              "datetime.datetime(1837, 5, 10, 0, 0)"
            ]
          },
          "metadata": {},
          "execution_count": 8
        }
      ]
    },
    {
      "cell_type": "code",
      "source": [
        "panic_1901 = 'Friday, 17 May 01'\n",
        "\n",
        "panic_wrong = datetime.strptime(panic_1901, '%A, %d %B %y')\n",
        "print(panic_wrong)\n",
        "\n",
        "panic_correct = panic_wrong.replace(year = 1900 + panic_wrong.year % 100)\n",
        "print(panic_correct)"
      ],
      "metadata": {
        "colab": {
          "base_uri": "https://localhost:8080/"
        },
        "id": "FQEw9zxsgM-P",
        "outputId": "b048532f-1458-4ff0-c54c-e3bca71784df"
      },
      "execution_count": 9,
      "outputs": [
        {
          "output_type": "stream",
          "name": "stdout",
          "text": [
            "2001-05-17 00:00:00\n",
            "1901-05-17 00:00:00\n"
          ]
        }
      ]
    },
    {
      "cell_type": "markdown",
      "source": [
        "## String from datetime"
      ],
      "metadata": {
        "id": "M9wD26Pph-Ku"
      }
    },
    {
      "cell_type": "code",
      "source": [
        "great_depression_crash = datetime(1929, 10, 29)\n",
        "print(great_depression_crash)"
      ],
      "metadata": {
        "colab": {
          "base_uri": "https://localhost:8080/"
        },
        "id": "osD1Va9jiA75",
        "outputId": "117e1898-975c-4d6e-b886-1965d2c7eb21"
      },
      "execution_count": 10,
      "outputs": [
        {
          "output_type": "stream",
          "name": "stdout",
          "text": [
            "1929-10-29 00:00:00\n"
          ]
        }
      ]
    },
    {
      "cell_type": "code",
      "source": [
        "great_depression_crash.strftime('%a, %b %d, %Y')"
      ],
      "metadata": {
        "colab": {
          "base_uri": "https://localhost:8080/",
          "height": 35
        },
        "id": "ZJJzJLRfidxX",
        "outputId": "0ff9dbee-ca97-4395-afb7-eae2695d5e86"
      },
      "execution_count": 11,
      "outputs": [
        {
          "output_type": "execute_result",
          "data": {
            "text/plain": [
              "'Tue, Oct 29, 1929'"
            ],
            "application/vnd.google.colaboratory.intrinsic+json": {
              "type": "string"
            }
          },
          "metadata": {},
          "execution_count": 11
        }
      ]
    },
    {
      "cell_type": "markdown",
      "source": [
        "## Datetime attributes"
      ],
      "metadata": {
        "id": "RmQ1bUX40jyv"
      }
    },
    {
      "cell_type": "code",
      "source": [
        "today = datetime.now()\n",
        "today"
      ],
      "metadata": {
        "colab": {
          "base_uri": "https://localhost:8080/"
        },
        "id": "LuqmGHZn0n4G",
        "outputId": "08d5ec3d-af8d-4532-ede9-b99336251dd8"
      },
      "execution_count": 12,
      "outputs": [
        {
          "output_type": "execute_result",
          "data": {
            "text/plain": [
              "datetime.datetime(2025, 10, 18, 16, 16, 57, 124724)"
            ]
          },
          "metadata": {},
          "execution_count": 12
        }
      ]
    },
    {
      "cell_type": "code",
      "source": [
        "today.year, today.month, today.day, today.hour, today.minute, today.second, today.microsecond"
      ],
      "metadata": {
        "colab": {
          "base_uri": "https://localhost:8080/"
        },
        "id": "gcl6vi4p0rtr",
        "outputId": "48324453-5b64-49c5-fc0d-05b25510fb21"
      },
      "execution_count": 13,
      "outputs": [
        {
          "output_type": "execute_result",
          "data": {
            "text/plain": [
              "(2025, 10, 18, 16, 16, 57, 124724)"
            ]
          },
          "metadata": {},
          "execution_count": 13
        }
      ]
    },
    {
      "cell_type": "markdown",
      "source": [
        "## Comparing datetimes"
      ],
      "metadata": {
        "id": "LMYeBT3Y1CdF"
      }
    },
    {
      "cell_type": "code",
      "source": [
        "asian_crisis = datetime(1997, 7, 2)\n",
        "world_mini_crash = datetime(1997, 10, 27)\n",
        "print(asian_crisis, \" --- \", world_mini_crash)"
      ],
      "metadata": {
        "colab": {
          "base_uri": "https://localhost:8080/"
        },
        "id": "Di3NIZXC1GR6",
        "outputId": "6169f8b3-a175-4e69-8274-e0c0b0e1ad36"
      },
      "execution_count": 14,
      "outputs": [
        {
          "output_type": "stream",
          "name": "stdout",
          "text": [
            "1997-07-02 00:00:00  ---  1997-10-27 00:00:00\n"
          ]
        }
      ]
    },
    {
      "cell_type": "code",
      "source": [
        "(\n",
        "    asian_crisis == world_mini_crash,\n",
        "    asian_crisis > world_mini_crash,\n",
        "    asian_crisis < world_mini_crash\n",
        ")"
      ],
      "metadata": {
        "colab": {
          "base_uri": "https://localhost:8080/"
        },
        "id": "ZIMMqGEa12hb",
        "outputId": "f5ea75ae-739a-449d-aae6-0bce71c3097a"
      },
      "execution_count": 15,
      "outputs": [
        {
          "output_type": "execute_result",
          "data": {
            "text/plain": [
              "(False, False, True)"
            ]
          },
          "metadata": {},
          "execution_count": 15
        }
      ]
    },
    {
      "cell_type": "code",
      "source": [
        "text = '10/27/1997'\n",
        "format_str = '%m/%d/%Y'\n",
        "sell_date = datetime.strptime(text, format_str)\n",
        "print(sell_date)"
      ],
      "metadata": {
        "colab": {
          "base_uri": "https://localhost:8080/"
        },
        "id": "0kanXOiJ3U8A",
        "outputId": "116035d7-f20d-4ea4-b8a2-287ebc61b9a3"
      },
      "execution_count": 16,
      "outputs": [
        {
          "output_type": "stream",
          "name": "stdout",
          "text": [
            "1997-10-27 00:00:00\n"
          ]
        }
      ]
    },
    {
      "cell_type": "code",
      "source": [
        "sell_date == world_mini_crash"
      ],
      "metadata": {
        "colab": {
          "base_uri": "https://localhost:8080/"
        },
        "id": "hoK3ttMW32j-",
        "outputId": "6df504c9-96ff-4793-e003-abeb6e6e90f2"
      },
      "execution_count": 17,
      "outputs": [
        {
          "output_type": "execute_result",
          "data": {
            "text/plain": [
              "True"
            ]
          },
          "metadata": {},
          "execution_count": 17
        }
      ]
    },
    {
      "cell_type": "markdown",
      "source": [
        "## `timedelta` object\n",
        "\n",
        "- attributes for days, seconds and microseconds\n",
        "- but they have contructor arguments for me than just those attributes\n",
        "\n",
        "`\n",
        "timedelta(days=0, seconds=0, microseconds=0, milliseconds=0, minutes=0, hours=0, weeks=0)\n",
        "`"
      ],
      "metadata": {
        "id": "ioJfbsoo4B7O"
      }
    },
    {
      "cell_type": "code",
      "source": [
        "delta = world_mini_crash - asian_crisis\n",
        "delta2 = asian_crisis - world_mini_crash\n",
        "delta, delta2"
      ],
      "metadata": {
        "colab": {
          "base_uri": "https://localhost:8080/"
        },
        "id": "BTp6vTnZ4hRH",
        "outputId": "7e600a7a-478f-49b8-ca22-0f62ce89bfc8"
      },
      "execution_count": 18,
      "outputs": [
        {
          "output_type": "execute_result",
          "data": {
            "text/plain": [
              "(datetime.timedelta(days=117), datetime.timedelta(days=-117))"
            ]
          },
          "metadata": {},
          "execution_count": 18
        }
      ]
    },
    {
      "cell_type": "code",
      "source": [
        "type(delta)"
      ],
      "metadata": {
        "colab": {
          "base_uri": "https://localhost:8080/"
        },
        "id": "K1imXbwO4mzb",
        "outputId": "d9631ec1-80fc-401b-9c8a-403a16cd13e1"
      },
      "execution_count": 19,
      "outputs": [
        {
          "output_type": "execute_result",
          "data": {
            "text/plain": [
              "datetime.timedelta"
            ]
          },
          "metadata": {},
          "execution_count": 19
        }
      ]
    },
    {
      "cell_type": "code",
      "source": [
        "print(delta)"
      ],
      "metadata": {
        "colab": {
          "base_uri": "https://localhost:8080/"
        },
        "id": "uQ-B5iIe4oz7",
        "outputId": "72b5a4c1-aa3b-47fc-f9a7-6ed235ec2b0e"
      },
      "execution_count": 20,
      "outputs": [
        {
          "output_type": "stream",
          "name": "stdout",
          "text": [
            "117 days, 0:00:00\n"
          ]
        }
      ]
    },
    {
      "cell_type": "code",
      "source": [
        "print(delta.days, delta.seconds, delta.microseconds)\n",
        "print(delta2.days, delta2.seconds, delta2.microseconds)"
      ],
      "metadata": {
        "colab": {
          "base_uri": "https://localhost:8080/"
        },
        "id": "QKGaYqSL4rYu",
        "outputId": "8207a72a-0d31-4736-c6b2-e9053c3dada8"
      },
      "execution_count": 21,
      "outputs": [
        {
          "output_type": "stream",
          "name": "stdout",
          "text": [
            "117 0 0\n",
            "-117 0 0\n"
          ]
        }
      ]
    },
    {
      "cell_type": "markdown",
      "source": [
        "## Creating relative datetimes"
      ],
      "metadata": {
        "id": "N7L9ohup8oqp"
      }
    },
    {
      "cell_type": "code",
      "source": [
        "dt = datetime(2019, 1, 14, 0, 0)\n",
        "print(dt)"
      ],
      "metadata": {
        "colab": {
          "base_uri": "https://localhost:8080/"
        },
        "id": "PvkRR0dW8sP9",
        "outputId": "7bc96b63-30c8-48fa-93ed-c80073651c1f"
      },
      "execution_count": 22,
      "outputs": [
        {
          "output_type": "stream",
          "name": "stdout",
          "text": [
            "2019-01-14 00:00:00\n"
          ]
        }
      ]
    },
    {
      "cell_type": "code",
      "source": [
        "# 1 week earlier,\n",
        "# but it fails when the number of days crosses into the next month\n",
        "#.   (ValueError: day is out of range for the month)\n",
        "datetime(dt.year, dt.month, dt.day - 7, 0, 0)"
      ],
      "metadata": {
        "colab": {
          "base_uri": "https://localhost:8080/"
        },
        "id": "lm9dXPT18yyv",
        "outputId": "728df1e2-15a0-4341-b41f-081f60e56b91"
      },
      "execution_count": 23,
      "outputs": [
        {
          "output_type": "execute_result",
          "data": {
            "text/plain": [
              "datetime.datetime(2019, 1, 7, 0, 0)"
            ]
          },
          "metadata": {},
          "execution_count": 23
        }
      ]
    },
    {
      "cell_type": "code",
      "source": [
        "# much better alternative\n",
        "from datetime import timedelta\n",
        "seven_days = timedelta(days=7)\n",
        "seven_days"
      ],
      "metadata": {
        "colab": {
          "base_uri": "https://localhost:8080/"
        },
        "id": "es9hu04x9DPN",
        "outputId": "d99545fd-a5f2-492d-a93b-5a81d827950c"
      },
      "execution_count": 24,
      "outputs": [
        {
          "output_type": "execute_result",
          "data": {
            "text/plain": [
              "datetime.timedelta(days=7)"
            ]
          },
          "metadata": {},
          "execution_count": 24
        }
      ]
    },
    {
      "cell_type": "code",
      "source": [
        "dt - seven_days"
      ],
      "metadata": {
        "colab": {
          "base_uri": "https://localhost:8080/"
        },
        "id": "VVANnTWV96TE",
        "outputId": "db658125-faf1-447b-a9ed-cd7d8ecfd97a"
      },
      "execution_count": 25,
      "outputs": [
        {
          "output_type": "execute_result",
          "data": {
            "text/plain": [
              "datetime.datetime(2019, 1, 7, 0, 0)"
            ]
          },
          "metadata": {},
          "execution_count": 25
        }
      ]
    },
    {
      "cell_type": "code",
      "source": [
        "offset = timedelta(days=16)\n",
        "dt - offset"
      ],
      "metadata": {
        "colab": {
          "base_uri": "https://localhost:8080/"
        },
        "id": "XdmYaCA2-QYX",
        "outputId": "f0c0926c-c060-4405-c517-82713a43c3de"
      },
      "execution_count": 26,
      "outputs": [
        {
          "output_type": "execute_result",
          "data": {
            "text/plain": [
              "datetime.datetime(2018, 12, 29, 0, 0)"
            ]
          },
          "metadata": {},
          "execution_count": 26
        }
      ]
    },
    {
      "cell_type": "markdown",
      "source": [
        "## Dictionaries"
      ],
      "metadata": {
        "id": "DObjDauF7gwI"
      }
    },
    {
      "cell_type": "code",
      "source": [
        "my_empty_dict = {}\n",
        "my_empty_dict, type(my_empty_dict)"
      ],
      "metadata": {
        "colab": {
          "base_uri": "https://localhost:8080/"
        },
        "id": "1tVORRdF8byR",
        "outputId": "6646fc2e-59ec-49a5-de81-c3b39a98716e"
      },
      "execution_count": 27,
      "outputs": [
        {
          "output_type": "execute_result",
          "data": {
            "text/plain": [
              "({}, dict)"
            ]
          },
          "metadata": {},
          "execution_count": 27
        }
      ]
    },
    {
      "cell_type": "code",
      "source": [
        "ticker_symbols = {\n",
        "    'AAPL': 'Apple',\n",
        "    'F': 'Ford',\n",
        "    'LUV': 'Southwest'\n",
        "}\n",
        "ticker_symbols"
      ],
      "metadata": {
        "colab": {
          "base_uri": "https://localhost:8080/"
        },
        "id": "nnes-pjd-4aw",
        "outputId": "54799f09-6b7b-4a84-a494-c7b05883b08e"
      },
      "execution_count": 28,
      "outputs": [
        {
          "output_type": "execute_result",
          "data": {
            "text/plain": [
              "{'AAPL': 'Apple', 'F': 'Ford', 'LUV': 'Southwest'}"
            ]
          },
          "metadata": {},
          "execution_count": 28
        }
      ]
    },
    {
      "cell_type": "code",
      "source": [
        "# alternately\n",
        "ticker_symbols = dict([\n",
        "    ['APPL', 'Apple'],\n",
        "    ['F', 'Ford'],\n",
        "    ['LUV', 'Southwest']\n",
        "])\n",
        "ticker_symbols"
      ],
      "metadata": {
        "colab": {
          "base_uri": "https://localhost:8080/"
        },
        "id": "xhlMmxHD_XJh",
        "outputId": "6ea942bb-a1b7-43de-f3c6-ed37add5ab57"
      },
      "execution_count": 29,
      "outputs": [
        {
          "output_type": "execute_result",
          "data": {
            "text/plain": [
              "{'APPL': 'Apple', 'F': 'Ford', 'LUV': 'Southwest'}"
            ]
          },
          "metadata": {},
          "execution_count": 29
        }
      ]
    },
    {
      "cell_type": "markdown",
      "source": [
        "## Adding to dictionaries"
      ],
      "metadata": {
        "id": "gyIQvGbr_8w2"
      }
    },
    {
      "cell_type": "code",
      "source": [
        "ticker_symbols['XON'] = 'Exxon'\n",
        "ticker_symbols"
      ],
      "metadata": {
        "colab": {
          "base_uri": "https://localhost:8080/"
        },
        "id": "4IZv9IOI__q_",
        "outputId": "d9c02377-8a79-425a-8567-cf372f8bc9a7"
      },
      "execution_count": 30,
      "outputs": [
        {
          "output_type": "execute_result",
          "data": {
            "text/plain": [
              "{'APPL': 'Apple', 'F': 'Ford', 'LUV': 'Southwest', 'XON': 'Exxon'}"
            ]
          },
          "metadata": {},
          "execution_count": 30
        }
      ]
    },
    {
      "cell_type": "markdown",
      "source": [
        "## Changing a value in a dictionary"
      ],
      "metadata": {
        "id": "DQbMiKWiAd31"
      }
    },
    {
      "cell_type": "code",
      "source": [
        "# it changed to XOM after it's merger with Mobil\n",
        "ticker_symbols['XON'] = 'Exxon OLD'\n",
        "ticker_symbols"
      ],
      "metadata": {
        "colab": {
          "base_uri": "https://localhost:8080/"
        },
        "id": "PNAW31bHAiGX",
        "outputId": "6355dd4c-64dc-45a6-82cf-c971a2e1a675"
      },
      "execution_count": 31,
      "outputs": [
        {
          "output_type": "execute_result",
          "data": {
            "text/plain": [
              "{'APPL': 'Apple', 'F': 'Ford', 'LUV': 'Southwest', 'XON': 'Exxon OLD'}"
            ]
          },
          "metadata": {},
          "execution_count": 31
        }
      ]
    },
    {
      "cell_type": "markdown",
      "source": [
        "## Accessing values in a dictionary"
      ],
      "metadata": {
        "id": "9lwqS53GBJST"
      }
    },
    {
      "cell_type": "code",
      "source": [
        "ticker_symbols['F']"
      ],
      "metadata": {
        "colab": {
          "base_uri": "https://localhost:8080/",
          "height": 35
        },
        "id": "6gufGm54BLrK",
        "outputId": "b56c0baa-87fe-4965-ac61-7bd692f6655c"
      },
      "execution_count": 32,
      "outputs": [
        {
          "output_type": "execute_result",
          "data": {
            "text/plain": [
              "'Ford'"
            ],
            "application/vnd.google.colaboratory.intrinsic+json": {
              "type": "string"
            }
          },
          "metadata": {},
          "execution_count": 32
        }
      ]
    },
    {
      "cell_type": "code",
      "source": [
        "# ticker_symbols['xxx']"
      ],
      "metadata": {
        "id": "mBNSrqDaBZJ8"
      },
      "execution_count": 33,
      "outputs": []
    },
    {
      "cell_type": "markdown",
      "source": [
        "```\n",
        "---------------------------------------------------------------------------\n",
        "KeyError                                  Traceback (most recent call last)\n",
        "/tmp/ipython-input-3516040404.py in <cell line: 0>()\n",
        "----> 1 ticker_symbols['xxx']\n",
        "\n",
        "KeyError: 'xxx'\n",
        "```"
      ],
      "metadata": {
        "id": "VMg07L2wB6lY"
      }
    },
    {
      "cell_type": "code",
      "source": [
        "# use get to avoid error from non-existent key\n",
        "\n",
        "print(ticker_symbols.get('xxx'))\n",
        "print(ticker_symbols['F'])"
      ],
      "metadata": {
        "colab": {
          "base_uri": "https://localhost:8080/"
        },
        "id": "zGcwhYFiCC4j",
        "outputId": "911d977b-089d-4627-d885-738bcdbda5b2"
      },
      "execution_count": 34,
      "outputs": [
        {
          "output_type": "stream",
          "name": "stdout",
          "text": [
            "None\n",
            "Ford\n"
          ]
        }
      ]
    },
    {
      "cell_type": "code",
      "source": [
        "# None is returned by default\n",
        "#. but an alternative default value can be proviced\n",
        "print(ticker_symbols.get('xxx', 'alternate value'))"
      ],
      "metadata": {
        "colab": {
          "base_uri": "https://localhost:8080/"
        },
        "id": "16odft1GDKYM",
        "outputId": "86c51e86-dbc9-458a-867c-8dad4495693b"
      },
      "execution_count": 35,
      "outputs": [
        {
          "output_type": "stream",
          "name": "stdout",
          "text": [
            "alternate value\n"
          ]
        }
      ]
    },
    {
      "cell_type": "markdown",
      "source": [
        "## Deleting from dictionaries"
      ],
      "metadata": {
        "id": "tu5GUrlaDgFl"
      }
    },
    {
      "cell_type": "code",
      "source": [
        "ticker_symbols"
      ],
      "metadata": {
        "colab": {
          "base_uri": "https://localhost:8080/"
        },
        "id": "vNf8DuzJDjY1",
        "outputId": "47c5448d-e3dd-4302-f508-391ffdec78e0"
      },
      "execution_count": 36,
      "outputs": [
        {
          "output_type": "execute_result",
          "data": {
            "text/plain": [
              "{'APPL': 'Apple', 'F': 'Ford', 'LUV': 'Southwest', 'XON': 'Exxon OLD'}"
            ]
          },
          "metadata": {},
          "execution_count": 36
        }
      ]
    },
    {
      "cell_type": "code",
      "source": [
        "del(ticker_symbols['XON'])"
      ],
      "metadata": {
        "id": "T4Ba4L7UDoXN"
      },
      "execution_count": 37,
      "outputs": []
    },
    {
      "cell_type": "code",
      "source": [
        "ticker_symbols"
      ],
      "metadata": {
        "colab": {
          "base_uri": "https://localhost:8080/"
        },
        "id": "xnDLQ-u-D8VK",
        "outputId": "ad4310a2-b244-494c-a278-509cffadeac9"
      },
      "execution_count": 38,
      "outputs": [
        {
          "output_type": "execute_result",
          "data": {
            "text/plain": [
              "{'APPL': 'Apple', 'F': 'Ford', 'LUV': 'Southwest'}"
            ]
          },
          "metadata": {},
          "execution_count": 38
        }
      ]
    }
  ]
}