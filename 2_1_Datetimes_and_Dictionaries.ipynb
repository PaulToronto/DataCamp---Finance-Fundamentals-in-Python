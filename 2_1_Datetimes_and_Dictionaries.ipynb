{
  "nbformat": 4,
  "nbformat_minor": 0,
  "metadata": {
    "colab": {
      "provenance": [],
      "toc_visible": true,
      "authorship_tag": "ABX9TyOz2vm9AsWFZBdV1DUh3VaP",
      "include_colab_link": true
    },
    "kernelspec": {
      "name": "python3",
      "display_name": "Python 3"
    },
    "language_info": {
      "name": "python"
    }
  },
  "cells": [
    {
      "cell_type": "markdown",
      "metadata": {
        "id": "view-in-github",
        "colab_type": "text"
      },
      "source": [
        "<a href=\"https://colab.research.google.com/github/PaulToronto/DataCamp---Finance-Fundamentals-in-Python/blob/main/2_1_Datetimes_and_Dictionaries.ipynb\" target=\"_parent\"><img src=\"https://colab.research.google.com/assets/colab-badge.svg\" alt=\"Open In Colab\"/></a>"
      ]
    },
    {
      "cell_type": "markdown",
      "source": [
        "# 2.1 - Datetimes and Dictionaries"
      ],
      "metadata": {
        "id": "BlyQJhLMTdV0"
      }
    },
    {
      "cell_type": "code",
      "source": [
        "from datetime import datetime"
      ],
      "metadata": {
        "id": "xaHPwMDuVLbc"
      },
      "execution_count": 1,
      "outputs": []
    },
    {
      "cell_type": "markdown",
      "source": [
        "## Datetimes"
      ],
      "metadata": {
        "id": "-MSg7IboVpjz"
      }
    },
    {
      "cell_type": "code",
      "source": [
        "black_monday = datetime(1987, 10, 19)\n",
        "black_monday"
      ],
      "metadata": {
        "colab": {
          "base_uri": "https://localhost:8080/"
        },
        "id": "Uv2AnVikVsKs",
        "outputId": "375e6928-c16e-4215-b74f-1f3ba048338d"
      },
      "execution_count": 2,
      "outputs": [
        {
          "output_type": "execute_result",
          "data": {
            "text/plain": [
              "datetime.datetime(1987, 10, 19, 0, 0)"
            ]
          },
          "metadata": {},
          "execution_count": 2
        }
      ]
    },
    {
      "cell_type": "code",
      "source": [
        "print(black_monday)"
      ],
      "metadata": {
        "colab": {
          "base_uri": "https://localhost:8080/"
        },
        "id": "TVzkFZMBVxl9",
        "outputId": "5641c0f2-fe5e-4a70-acbc-f8dc19c1dd7d"
      },
      "execution_count": 3,
      "outputs": [
        {
          "output_type": "stream",
          "name": "stdout",
          "text": [
            "1987-10-19 00:00:00\n"
          ]
        }
      ]
    },
    {
      "cell_type": "code",
      "source": [
        "today = datetime.now()\n",
        "today"
      ],
      "metadata": {
        "colab": {
          "base_uri": "https://localhost:8080/"
        },
        "id": "b_cHpxuubyoA",
        "outputId": "e005e4fd-84be-4330-c93e-5141593e15a9"
      },
      "execution_count": 4,
      "outputs": [
        {
          "output_type": "execute_result",
          "data": {
            "text/plain": [
              "datetime.datetime(2025, 10, 15, 22, 25, 58, 948139)"
            ]
          },
          "metadata": {},
          "execution_count": 4
        }
      ]
    },
    {
      "cell_type": "code",
      "source": [
        "print(today)"
      ],
      "metadata": {
        "colab": {
          "base_uri": "https://localhost:8080/"
        },
        "id": "_bjs8vQVb272",
        "outputId": "77200d5f-929e-41c5-bd0f-1c36d4953071"
      },
      "execution_count": 5,
      "outputs": [
        {
          "output_type": "stream",
          "name": "stdout",
          "text": [
            "2025-10-15 22:25:58.948139\n"
          ]
        }
      ]
    },
    {
      "cell_type": "code",
      "source": [
        "today.microsecond"
      ],
      "metadata": {
        "colab": {
          "base_uri": "https://localhost:8080/"
        },
        "id": "tuwACTbnb8Cc",
        "outputId": "ca973abd-69f7-4697-c8e7-4c629c8696e7"
      },
      "execution_count": 6,
      "outputs": [
        {
          "output_type": "execute_result",
          "data": {
            "text/plain": [
              "948139"
            ]
          },
          "metadata": {},
          "execution_count": 6
        }
      ]
    },
    {
      "cell_type": "markdown",
      "source": [
        "## Datetime from string\n",
        "\n",
        "<table>\n",
        "  <thead>\n",
        "    <tr>\n",
        "      <th>Directive</th>\n",
        "      <th>Meaning</th>\n",
        "      <th>Example</th>\n",
        "    </tr>\n",
        "  </thead>\n",
        "  <tbody>\n",
        "    <tr><td><code>%Y</code></td><td>Year with century</td><td>2025</td></tr>\n",
        "    <tr><td><code>%y</code></td><td>Year without century</td><td>25</td></tr>\n",
        "    <tr><td><code>%m</code></td><td>Month as zero-padded decimal</td><td>01..12</td></tr>\n",
        "    <tr><td><code>%B</code></td><td>Full month name</td><td>October</td></tr>\n",
        "    <tr><td><code>%b</code></td><td>Abbreviated month name</td><td>Oct</td></tr>\n",
        "    <tr><td><code>%d</code></td><td>Day of the month (zero-padded)</td><td>01..31</td></tr>\n",
        "    <tr><td><code>%A</code></td><td>Full weekday name</td><td>Tuesday</td></tr>\n",
        "    <tr><td><code>%a</code></td><td>Abbreviated weekday name</td><td>Tue</td></tr>\n",
        "    <tr><td><code>%w</code></td><td>Weekday as a number (0=Sunday)</td><td>0..6</td></tr>\n",
        "    <tr><td><code>%H</code></td><td>Hour (24-hour clock)</td><td>00..23</td></tr>\n",
        "    <tr><td><code>%I</code></td><td>Hour (12-hour clock)</td><td>01..12</td></tr>\n",
        "    <tr><td><code>%p</code></td><td>AM/PM</td><td>AM</td></tr>\n",
        "    <tr><td><code>%M</code></td><td>Minute</td><td>00..59</td></tr>\n",
        "    <tr><td><code>%S</code></td><td>Second</td><td>00..59</td></tr>\n",
        "    <tr><td><code>%f</code></td><td>Microsecond (6 digits)</td><td>000000..999999</td></tr>\n",
        "    <tr><td><code>%z</code></td><td>UTC offset</td><td>+0000</td></tr>\n",
        "    <tr><td><code>%Z</code></td><td>Time zone name</td><td>UTC, EST, etc.</td></tr>\n",
        "    <tr><td><code>%j</code></td><td>Day of the year</td><td>001..366</td></tr>\n",
        "    <tr><td><code>%U</code></td><td>Week number (Sunday as first day)</td><td>00..53</td></tr>\n",
        "    <tr><td><code>%W</code></td><td>Week number (Monday as first day)</td><td>00..53</td></tr>\n",
        "    <tr><td><code>%c</code></td><td>Locale date and time</td><td>Tue Oct 14 12:30:45 2025</td></tr>\n",
        "    <tr><td><code>%x</code></td><td>Locale date</td><td>10/14/25</td></tr>\n",
        "    <tr><td><code>%X</code></td><td>Locale time</td><td>12:30:45</td></tr>\n",
        "    <tr><td><code>%%</code></td><td>Literal '%' character</td><td>%</td></tr>\n",
        "  </tbody>\n",
        "</table>"
      ],
      "metadata": {
        "id": "D0QzbkMhcPHi"
      }
    },
    {
      "cell_type": "code",
      "source": [
        "black_monday_string = 'Monday October 19 1987 9:30 am'\n",
        "\n",
        "format_str = \"%A %B %d %Y %I:%M %p\"\n",
        "\n",
        "datetime.strptime(black_monday_string, format_str)"
      ],
      "metadata": {
        "colab": {
          "base_uri": "https://localhost:8080/"
        },
        "id": "-KtcczovcRNK",
        "outputId": "89a046e1-a323-4203-d280-89c03470fd22"
      },
      "execution_count": 7,
      "outputs": [
        {
          "output_type": "execute_result",
          "data": {
            "text/plain": [
              "datetime.datetime(1987, 10, 19, 9, 30)"
            ]
          },
          "metadata": {},
          "execution_count": 7
        }
      ]
    },
    {
      "cell_type": "code",
      "source": [
        "crash_of_1837 = '1837-05-10'\n",
        "\n",
        "datetime.strptime(crash_of_1837, '%Y-%m-%d')"
      ],
      "metadata": {
        "colab": {
          "base_uri": "https://localhost:8080/"
        },
        "id": "UJ5qRTWafva7",
        "outputId": "dd9f1800-69a4-437b-c5eb-e837fb6dee9a"
      },
      "execution_count": 8,
      "outputs": [
        {
          "output_type": "execute_result",
          "data": {
            "text/plain": [
              "datetime.datetime(1837, 5, 10, 0, 0)"
            ]
          },
          "metadata": {},
          "execution_count": 8
        }
      ]
    },
    {
      "cell_type": "code",
      "source": [
        "panic_1901 = 'Friday, 17 May 01'\n",
        "\n",
        "panic_wrong = datetime.strptime(panic_1901, '%A, %d %B %y')\n",
        "print(panic_wrong)\n",
        "\n",
        "panic_correct = panic_wrong.replace(year = 1900 + panic_wrong.year % 100)\n",
        "print(panic_correct)"
      ],
      "metadata": {
        "colab": {
          "base_uri": "https://localhost:8080/"
        },
        "id": "FQEw9zxsgM-P",
        "outputId": "0a5275a5-2657-4105-91d7-ec81041d3e79"
      },
      "execution_count": 9,
      "outputs": [
        {
          "output_type": "stream",
          "name": "stdout",
          "text": [
            "2001-05-17 00:00:00\n",
            "1901-05-17 00:00:00\n"
          ]
        }
      ]
    },
    {
      "cell_type": "markdown",
      "source": [
        "## String from datetime"
      ],
      "metadata": {
        "id": "M9wD26Pph-Ku"
      }
    },
    {
      "cell_type": "code",
      "source": [
        "great_depression_crash = datetime(1929, 10, 29)\n",
        "print(great_depression_crash)"
      ],
      "metadata": {
        "colab": {
          "base_uri": "https://localhost:8080/"
        },
        "id": "osD1Va9jiA75",
        "outputId": "d9be8e0c-cded-4dc8-8135-73e79636c27a"
      },
      "execution_count": 10,
      "outputs": [
        {
          "output_type": "stream",
          "name": "stdout",
          "text": [
            "1929-10-29 00:00:00\n"
          ]
        }
      ]
    },
    {
      "cell_type": "code",
      "source": [
        "great_depression_crash.strftime('%a, %b %d, %Y')"
      ],
      "metadata": {
        "colab": {
          "base_uri": "https://localhost:8080/",
          "height": 35
        },
        "id": "ZJJzJLRfidxX",
        "outputId": "6bbf78e8-4ff7-42ad-a85f-e29015d09ba3"
      },
      "execution_count": 11,
      "outputs": [
        {
          "output_type": "execute_result",
          "data": {
            "text/plain": [
              "'Tue, Oct 29, 1929'"
            ],
            "application/vnd.google.colaboratory.intrinsic+json": {
              "type": "string"
            }
          },
          "metadata": {},
          "execution_count": 11
        }
      ]
    },
    {
      "cell_type": "markdown",
      "source": [
        "## Datetime attributes"
      ],
      "metadata": {
        "id": "RmQ1bUX40jyv"
      }
    },
    {
      "cell_type": "code",
      "source": [
        "today = datetime.now()\n",
        "today"
      ],
      "metadata": {
        "colab": {
          "base_uri": "https://localhost:8080/"
        },
        "id": "LuqmGHZn0n4G",
        "outputId": "eec793c8-0ec5-4e68-e495-66ea89697e47"
      },
      "execution_count": 12,
      "outputs": [
        {
          "output_type": "execute_result",
          "data": {
            "text/plain": [
              "datetime.datetime(2025, 10, 15, 22, 25, 59, 24484)"
            ]
          },
          "metadata": {},
          "execution_count": 12
        }
      ]
    },
    {
      "cell_type": "code",
      "source": [
        "today.year, today.month, today.day, today.hour, today.minute, today.second, today.microsecond"
      ],
      "metadata": {
        "colab": {
          "base_uri": "https://localhost:8080/"
        },
        "id": "gcl6vi4p0rtr",
        "outputId": "9e05b53f-210d-4c99-86ec-87de9bfc4d5c"
      },
      "execution_count": 13,
      "outputs": [
        {
          "output_type": "execute_result",
          "data": {
            "text/plain": [
              "(2025, 10, 15, 22, 25, 59, 24484)"
            ]
          },
          "metadata": {},
          "execution_count": 13
        }
      ]
    },
    {
      "cell_type": "markdown",
      "source": [
        "## Comparing datetimes"
      ],
      "metadata": {
        "id": "LMYeBT3Y1CdF"
      }
    },
    {
      "cell_type": "code",
      "source": [
        "asian_crisis = datetime(1997, 7, 2)\n",
        "world_mini_crash = datetime(1997, 10, 27)\n",
        "print(asian_crisis, \" --- \", world_mini_crash)"
      ],
      "metadata": {
        "colab": {
          "base_uri": "https://localhost:8080/"
        },
        "id": "Di3NIZXC1GR6",
        "outputId": "1dc521eb-53d5-4035-86b5-4f9a772a87aa"
      },
      "execution_count": 14,
      "outputs": [
        {
          "output_type": "stream",
          "name": "stdout",
          "text": [
            "1997-07-02 00:00:00  ---  1997-10-27 00:00:00\n"
          ]
        }
      ]
    },
    {
      "cell_type": "code",
      "source": [
        "(\n",
        "    asian_crisis == world_mini_crash,\n",
        "    asian_crisis > world_mini_crash,\n",
        "    asian_crisis < world_mini_crash\n",
        ")"
      ],
      "metadata": {
        "colab": {
          "base_uri": "https://localhost:8080/"
        },
        "id": "ZIMMqGEa12hb",
        "outputId": "aa0f3750-7082-4391-bf96-5ac578b4a0eb"
      },
      "execution_count": 15,
      "outputs": [
        {
          "output_type": "execute_result",
          "data": {
            "text/plain": [
              "(False, False, True)"
            ]
          },
          "metadata": {},
          "execution_count": 15
        }
      ]
    },
    {
      "cell_type": "code",
      "source": [
        "text = '10/27/1997'\n",
        "format_str = '%m/%d/%Y'\n",
        "sell_date = datetime.strptime(text, format_str)\n",
        "print(sell_date)"
      ],
      "metadata": {
        "colab": {
          "base_uri": "https://localhost:8080/"
        },
        "id": "0kanXOiJ3U8A",
        "outputId": "2548b7e0-8e16-45f6-fffe-e2f432ff36ff"
      },
      "execution_count": 16,
      "outputs": [
        {
          "output_type": "stream",
          "name": "stdout",
          "text": [
            "1997-10-27 00:00:00\n"
          ]
        }
      ]
    },
    {
      "cell_type": "code",
      "source": [
        "sell_date == world_mini_crash"
      ],
      "metadata": {
        "colab": {
          "base_uri": "https://localhost:8080/"
        },
        "id": "hoK3ttMW32j-",
        "outputId": "4a2409b3-c9f2-4410-a1f4-f1ec1d25e419"
      },
      "execution_count": 17,
      "outputs": [
        {
          "output_type": "execute_result",
          "data": {
            "text/plain": [
              "True"
            ]
          },
          "metadata": {},
          "execution_count": 17
        }
      ]
    },
    {
      "cell_type": "markdown",
      "source": [
        "## `timedelta` object\n",
        "\n",
        "- attributes for days, seconds and microseconds\n",
        "- but they have contructor arguments for me than just those attributes\n",
        "\n",
        "`\n",
        "timedelta(days=0, seconds=0, microseconds=0, milliseconds=0, minutes=0, hours=0, weeks=0)\n",
        "`"
      ],
      "metadata": {
        "id": "ioJfbsoo4B7O"
      }
    },
    {
      "cell_type": "code",
      "source": [
        "delta = world_mini_crash - asian_crisis\n",
        "delta2 = asian_crisis - world_mini_crash\n",
        "delta, delta2"
      ],
      "metadata": {
        "colab": {
          "base_uri": "https://localhost:8080/"
        },
        "id": "BTp6vTnZ4hRH",
        "outputId": "44f49325-72c2-455b-d577-1ff91df759df"
      },
      "execution_count": 18,
      "outputs": [
        {
          "output_type": "execute_result",
          "data": {
            "text/plain": [
              "(datetime.timedelta(days=117), datetime.timedelta(days=-117))"
            ]
          },
          "metadata": {},
          "execution_count": 18
        }
      ]
    },
    {
      "cell_type": "code",
      "source": [
        "type(delta)"
      ],
      "metadata": {
        "colab": {
          "base_uri": "https://localhost:8080/"
        },
        "id": "K1imXbwO4mzb",
        "outputId": "c5c3dfb4-4cba-409c-b015-0cf65acef219"
      },
      "execution_count": 19,
      "outputs": [
        {
          "output_type": "execute_result",
          "data": {
            "text/plain": [
              "datetime.timedelta"
            ]
          },
          "metadata": {},
          "execution_count": 19
        }
      ]
    },
    {
      "cell_type": "code",
      "source": [
        "print(delta)"
      ],
      "metadata": {
        "colab": {
          "base_uri": "https://localhost:8080/"
        },
        "id": "uQ-B5iIe4oz7",
        "outputId": "eed5b572-1f94-4953-dc5d-9b312787e194"
      },
      "execution_count": 20,
      "outputs": [
        {
          "output_type": "stream",
          "name": "stdout",
          "text": [
            "117 days, 0:00:00\n"
          ]
        }
      ]
    },
    {
      "cell_type": "code",
      "source": [
        "print(delta.days, delta.seconds, delta.microseconds)\n",
        "print(delta2.days, delta2.seconds, delta2.microseconds)"
      ],
      "metadata": {
        "colab": {
          "base_uri": "https://localhost:8080/"
        },
        "id": "QKGaYqSL4rYu",
        "outputId": "ce224250-b3ee-4f9b-f09d-7263c1e7e973"
      },
      "execution_count": 21,
      "outputs": [
        {
          "output_type": "stream",
          "name": "stdout",
          "text": [
            "117 0 0\n",
            "-117 0 0\n"
          ]
        }
      ]
    },
    {
      "cell_type": "markdown",
      "source": [
        "## Creating relative datetimes"
      ],
      "metadata": {
        "id": "N7L9ohup8oqp"
      }
    },
    {
      "cell_type": "code",
      "source": [
        "dt = datetime(2019, 1, 14, 0, 0)\n",
        "print(dt)"
      ],
      "metadata": {
        "colab": {
          "base_uri": "https://localhost:8080/"
        },
        "id": "PvkRR0dW8sP9",
        "outputId": "5dfdd0e7-b318-49f5-fab5-eec5a7a48f4d"
      },
      "execution_count": 22,
      "outputs": [
        {
          "output_type": "stream",
          "name": "stdout",
          "text": [
            "2019-01-14 00:00:00\n"
          ]
        }
      ]
    },
    {
      "cell_type": "code",
      "source": [
        "# 1 week earlier,\n",
        "# but it fails when the number of days crosses into the next month\n",
        "#.   (ValueError: day is out of range for the month)\n",
        "datetime(dt.year, dt.month, dt.day - 7, 0, 0)"
      ],
      "metadata": {
        "colab": {
          "base_uri": "https://localhost:8080/"
        },
        "id": "lm9dXPT18yyv",
        "outputId": "78c63117-cbfe-433f-e7eb-15b6fa8208f0"
      },
      "execution_count": 23,
      "outputs": [
        {
          "output_type": "execute_result",
          "data": {
            "text/plain": [
              "datetime.datetime(2019, 1, 7, 0, 0)"
            ]
          },
          "metadata": {},
          "execution_count": 23
        }
      ]
    },
    {
      "cell_type": "code",
      "source": [
        "# much better alternative\n",
        "from datetime import timedelta\n",
        "seven_days = timedelta(days=7)\n",
        "seven_days"
      ],
      "metadata": {
        "colab": {
          "base_uri": "https://localhost:8080/"
        },
        "id": "es9hu04x9DPN",
        "outputId": "0bbf849c-67d2-4b13-fef1-2bf86aab8802"
      },
      "execution_count": 24,
      "outputs": [
        {
          "output_type": "execute_result",
          "data": {
            "text/plain": [
              "datetime.timedelta(days=7)"
            ]
          },
          "metadata": {},
          "execution_count": 24
        }
      ]
    },
    {
      "cell_type": "code",
      "source": [
        "dt - seven_days"
      ],
      "metadata": {
        "colab": {
          "base_uri": "https://localhost:8080/"
        },
        "id": "VVANnTWV96TE",
        "outputId": "abba3ad3-a47a-4294-cee6-f5c508411c13"
      },
      "execution_count": 25,
      "outputs": [
        {
          "output_type": "execute_result",
          "data": {
            "text/plain": [
              "datetime.datetime(2019, 1, 7, 0, 0)"
            ]
          },
          "metadata": {},
          "execution_count": 25
        }
      ]
    },
    {
      "cell_type": "code",
      "source": [
        "offset = timedelta(days=16)\n",
        "dt - offset"
      ],
      "metadata": {
        "colab": {
          "base_uri": "https://localhost:8080/"
        },
        "id": "XdmYaCA2-QYX",
        "outputId": "6e623d85-5d94-4ed8-cfb4-941029aa148b"
      },
      "execution_count": 26,
      "outputs": [
        {
          "output_type": "execute_result",
          "data": {
            "text/plain": [
              "datetime.datetime(2018, 12, 29, 0, 0)"
            ]
          },
          "metadata": {},
          "execution_count": 26
        }
      ]
    }
  ]
}