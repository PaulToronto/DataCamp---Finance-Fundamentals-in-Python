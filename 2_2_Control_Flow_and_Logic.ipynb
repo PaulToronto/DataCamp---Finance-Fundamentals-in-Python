{
  "nbformat": 4,
  "nbformat_minor": 0,
  "metadata": {
    "colab": {
      "provenance": [],
      "toc_visible": true,
      "authorship_tag": "ABX9TyO8+pKoIlLOkrHV5Iq4Yn+Y",
      "include_colab_link": true
    },
    "kernelspec": {
      "name": "python3",
      "display_name": "Python 3"
    },
    "language_info": {
      "name": "python"
    }
  },
  "cells": [
    {
      "cell_type": "markdown",
      "metadata": {
        "id": "view-in-github",
        "colab_type": "text"
      },
      "source": [
        "<a href=\"https://colab.research.google.com/github/PaulToronto/DataCamp---Finance-Fundamentals-in-Python/blob/main/2_2_Control_Flow_and_Logic.ipynb\" target=\"_parent\"><img src=\"https://colab.research.google.com/assets/colab-badge.svg\" alt=\"Open In Colab\"/></a>"
      ]
    },
    {
      "cell_type": "markdown",
      "source": [
        "# 2.2 - Control Flow and Logic"
      ],
      "metadata": {
        "id": "xCIx14z2H1rl"
      }
    },
    {
      "cell_type": "code",
      "source": [
        "from datetime import datetime"
      ],
      "metadata": {
        "id": "34MWSmAbJQcD"
      },
      "execution_count": 1,
      "outputs": []
    },
    {
      "cell_type": "markdown",
      "source": [
        "## Equality comparisons: `==`\n",
        "\n",
        "- datetimes\n",
        "- numbers (floats and ints)\n",
        "- dictionaries\n",
        "- strings\n",
        "- almost anything else"
      ],
      "metadata": {
        "id": "Ry5bLbPlIlQz"
      }
    },
    {
      "cell_type": "code",
      "source": [
        "data_close_high = datetime(2019, 11, 27)\n",
        "data_intra_high = datetime(2019, 11, 27)\n",
        "\n",
        "data_close_high == data_intra_high, data_close_high != data_intra_high"
      ],
      "metadata": {
        "colab": {
          "base_uri": "https://localhost:8080/"
        },
        "id": "XnGcnGX9JKAt",
        "outputId": "8d608427-3c37-47f2-909b-a195ebdc3467"
      },
      "execution_count": 2,
      "outputs": [
        {
          "output_type": "execute_result",
          "data": {
            "text/plain": [
              "(True, False)"
            ]
          },
          "metadata": {},
          "execution_count": 2
        }
      ]
    },
    {
      "cell_type": "code",
      "source": [
        "# dictionaries are equal if they have the same keys and vaclues\n",
        "\n",
        "d1 = {'high': 56.88, 'low': 33.22, 'closing': 56.88}\n",
        "d2 = {'closing': 56.88, 'low': 33.22, 'high': 56.88}\n",
        "\n",
        "d1 == d2, d1 != d2"
      ],
      "metadata": {
        "colab": {
          "base_uri": "https://localhost:8080/"
        },
        "id": "IdkRotVgNqsV",
        "outputId": "d7347708-0a3c-44a3-e118-91efa2085d0d"
      },
      "execution_count": 3,
      "outputs": [
        {
          "output_type": "execute_result",
          "data": {
            "text/plain": [
              "(True, False)"
            ]
          },
          "metadata": {},
          "execution_count": 3
        }
      ]
    },
    {
      "cell_type": "code",
      "source": [
        "# a mix of number types can be equal\n",
        "#. but a mix of a number type with a string can't be equal\n",
        "3 == 3.0, 3 == '3'"
      ],
      "metadata": {
        "colab": {
          "base_uri": "https://localhost:8080/"
        },
        "id": "nvsupVPNOZxy",
        "outputId": "220136aa-474f-491c-c332-b460c00e3510"
      },
      "execution_count": 4,
      "outputs": [
        {
          "output_type": "execute_result",
          "data": {
            "text/plain": [
              "(True, False)"
            ]
          },
          "metadata": {},
          "execution_count": 4
        }
      ]
    },
    {
      "cell_type": "markdown",
      "source": [
        "## Order operators\n",
        "\n",
        "- `<`, `>`, `<=`, `>=`"
      ],
      "metadata": {
        "id": "4hk26vgjPDf4"
      }
    },
    {
      "cell_type": "code",
      "source": [
        "3 < 5, 3 < 3.6"
      ],
      "metadata": {
        "colab": {
          "base_uri": "https://localhost:8080/"
        },
        "id": "v-X4IV52PUsS",
        "outputId": "6ef1ea91-d41b-4e5f-f50b-af2d83e2a452"
      },
      "execution_count": 5,
      "outputs": [
        {
          "output_type": "execute_result",
          "data": {
            "text/plain": [
              "(True, True)"
            ]
          },
          "metadata": {},
          "execution_count": 5
        }
      ]
    },
    {
      "cell_type": "code",
      "source": [
        "# note that ascii order applies\n",
        "\n",
        "'a' < 'b', 'a' < 'B'"
      ],
      "metadata": {
        "colab": {
          "base_uri": "https://localhost:8080/"
        },
        "id": "S5mfXxT4PdeU",
        "outputId": "d57a2730-3823-49f4-9afc-377d5f4a3c14"
      },
      "execution_count": 6,
      "outputs": [
        {
          "output_type": "execute_result",
          "data": {
            "text/plain": [
              "(True, False)"
            ]
          },
          "metadata": {},
          "execution_count": 6
        }
      ]
    },
    {
      "cell_type": "code",
      "source": [
        "data_close_high = datetime(2019, 11, 27)\n",
        "data_intra_high = datetime(2019, 11, 27)\n",
        "\n",
        "data_close_high < data_intra_high, data_close_high <= data_intra_high"
      ],
      "metadata": {
        "colab": {
          "base_uri": "https://localhost:8080/"
        },
        "id": "DVjRZ23PP-Ja",
        "outputId": "4531beda-0985-4905-917a-92d61d937c59"
      },
      "execution_count": 7,
      "outputs": [
        {
          "output_type": "execute_result",
          "data": {
            "text/plain": [
              "(False, True)"
            ]
          },
          "metadata": {},
          "execution_count": 7
        }
      ]
    },
    {
      "cell_type": "markdown",
      "source": [
        "## Boolean operators\n",
        "\n",
        "1. logical conjunction: `and`\n",
        "2. logical disjunction: `or`\n",
        "3. logical negatiion: `not`\n",
        "\n",
        "These operations evaluate to `True` or `False`"
      ],
      "metadata": {
        "id": "j9aKpkOgTV5i"
      }
    },
    {
      "cell_type": "markdown",
      "source": [
        "## Valuse that are equivalent `False` or `True`\n",
        "\n",
        "### `False`\n",
        "\n",
        "- `False`\n",
        "- `None`\n",
        "- `0`\n",
        "- `0.0\n",
        "- `\"\"`\n",
        "- `[]`\n",
        "- `{}`\n",
        "\n",
        "### `True`\n",
        "\n",
        "- `True`\n",
        "- Almost everything else\n",
        "\n"
      ],
      "metadata": {
        "id": "RCEQ16TvkB7x"
      }
    },
    {
      "cell_type": "markdown",
      "source": [
        "## Short circuit\n",
        "\n",
        "- Both the `and` and `or` operators are short-circuit operations\n",
        "- Python stops evaluating the operation as soon as the result of the operation is determined\n",
        "- When returning, they return the **last item that was evaluated**"
      ],
      "metadata": {
        "id": "vUsnf8gqk1yI"
      }
    },
    {
      "cell_type": "code",
      "source": [
        "\"hello\" and \"goodbye\", {} and \"goodbye\""
      ],
      "metadata": {
        "colab": {
          "base_uri": "https://localhost:8080/"
        },
        "id": "XsFtCFYCnJI0",
        "outputId": "28bb5010-159e-40eb-ea8b-7062b5a2a4bd"
      },
      "execution_count": 8,
      "outputs": [
        {
          "output_type": "execute_result",
          "data": {
            "text/plain": [
              "('goodbye', {})"
            ]
          },
          "metadata": {},
          "execution_count": 8
        }
      ]
    },
    {
      "cell_type": "code",
      "source": [
        "\"hello\" or \"goodbye\", [] or \"goodbye\""
      ],
      "metadata": {
        "colab": {
          "base_uri": "https://localhost:8080/"
        },
        "id": "pLnaAY4YnO4E",
        "outputId": "685c529d-7a34-4b6d-a471-1a0598d643a6"
      },
      "execution_count": 9,
      "outputs": [
        {
          "output_type": "execute_result",
          "data": {
            "text/plain": [
              "('hello', 'goodbye')"
            ]
          },
          "metadata": {},
          "execution_count": 9
        }
      ]
    },
    {
      "cell_type": "markdown",
      "source": [
        "## Basic Examples"
      ],
      "metadata": {
        "id": "Tc1i1n8FlO94"
      }
    },
    {
      "cell_type": "code",
      "source": [
        "True and True, True and False"
      ],
      "metadata": {
        "colab": {
          "base_uri": "https://localhost:8080/"
        },
        "id": "k2tagM_tk_Ii",
        "outputId": "afe987d1-c101-4a2c-d53c-80b67e18a4d5"
      },
      "execution_count": 10,
      "outputs": [
        {
          "output_type": "execute_result",
          "data": {
            "text/plain": [
              "(True, False)"
            ]
          },
          "metadata": {},
          "execution_count": 10
        }
      ]
    },
    {
      "cell_type": "code",
      "source": [
        "True or True, True or False, False or True, False or False"
      ],
      "metadata": {
        "colab": {
          "base_uri": "https://localhost:8080/"
        },
        "id": "bVpNfziflD_-",
        "outputId": "e5d04a89-b147-4464-8f9e-1a507da8c33a"
      },
      "execution_count": 11,
      "outputs": [
        {
          "output_type": "execute_result",
          "data": {
            "text/plain": [
              "(True, True, True, False)"
            ]
          },
          "metadata": {},
          "execution_count": 11
        }
      ]
    },
    {
      "cell_type": "code",
      "source": [
        "True, not True"
      ],
      "metadata": {
        "colab": {
          "base_uri": "https://localhost:8080/"
        },
        "id": "aKLPRu_7lJVX",
        "outputId": "93fe6fab-d6be-443f-879d-69d3ffaa0126"
      },
      "execution_count": 12,
      "outputs": [
        {
          "output_type": "execute_result",
          "data": {
            "text/plain": [
              "(True, False)"
            ]
          },
          "metadata": {},
          "execution_count": 12
        }
      ]
    },
    {
      "cell_type": "markdown",
      "source": [
        "## `if` statements"
      ],
      "metadata": {
        "id": "gjYvMV8nqQBL"
      }
    },
    {
      "cell_type": "markdown",
      "source": [
        "```python\n",
        "if <expression> : statement\n",
        "```"
      ],
      "metadata": {
        "id": "0VeIUcrorN8u"
      }
    },
    {
      "cell_type": "markdown",
      "source": [
        "```python\n",
        "if <expression> :\n",
        "    statement\n",
        "    statement\n",
        "    statement\n",
        "```"
      ],
      "metadata": {
        "id": "5k_z5SbYromB"
      }
    },
    {
      "cell_type": "markdown",
      "source": [
        "```python\n",
        "if <expression> : statement; statement; statement\n",
        "```"
      ],
      "metadata": {
        "id": "srMRtMR0rtB3"
      }
    },
    {
      "cell_type": "code",
      "source": [
        "# printing sales only\n",
        "\n",
        "trns = {'symbol': 'TSLA', 'type': 'BUY', 'amount': 300}\n",
        "\n",
        "if trns['type'] == 'SELL':\n",
        "    print(trns['amount'])\n"
      ],
      "metadata": {
        "id": "rYeZMH7Ir3Uu"
      },
      "execution_count": 13,
      "outputs": []
    },
    {
      "cell_type": "markdown",
      "source": [
        "## `else` clause"
      ],
      "metadata": {
        "id": "nChIQCbOsp5j"
      }
    },
    {
      "cell_type": "markdown",
      "source": [
        "```python\n",
        "if x in y:\n",
        "    print('I found x in y')\n",
        "else:\n",
        "    print('No x in y')\n",
        "```"
      ],
      "metadata": {
        "id": "JTo1ZAcosxzZ"
      }
    },
    {
      "cell_type": "markdown",
      "source": [
        "## `elif` statement"
      ],
      "metadata": {
        "id": "QLmkyWqas_Q7"
      }
    },
    {
      "cell_type": "markdown",
      "source": [
        "```python\n",
        "if x == y:\n",
        "    print('equals')\n",
        "elif x < y:\n",
        "    print('less than')\n",
        "elif x > y:\n",
        "    print('greater than')\n",
        "elif x == 0:\n",
        "    print('zero')\n",
        "else:\n",
        "    print('None of the above')\n",
        "```"
      ],
      "metadata": {
        "id": "gDdmV6JWtUC3"
      }
    },
    {
      "cell_type": "markdown",
      "source": [
        "## `for` and `while` loops"
      ],
      "metadata": {
        "id": "sU-JhK9twumT"
      }
    },
    {
      "cell_type": "markdown",
      "source": [
        "### `for`\n",
        "\n",
        "```python\n",
        "for <variable> in <sequence>:\n",
        "    <code block>\n",
        "```"
      ],
      "metadata": {
        "id": "UT7seFsYwxgH"
      }
    },
    {
      "cell_type": "code",
      "source": [
        "symbols = {'037833100': 'AAPL',\n",
        "           '17275R102': 'CSCO',\n",
        "           '68389X105': 'ORCL'}\n",
        "\n",
        "for k in symbols:\n",
        "    print(symbols[k])"
      ],
      "metadata": {
        "colab": {
          "base_uri": "https://localhost:8080/"
        },
        "id": "ssZv2u091MtL",
        "outputId": "0d0ce5a7-e15c-4349-cccb-72f6e9f013b8"
      },
      "execution_count": 14,
      "outputs": [
        {
          "output_type": "stream",
          "name": "stdout",
          "text": [
            "AAPL\n",
            "CSCO\n",
            "ORCL\n"
          ]
        }
      ]
    },
    {
      "cell_type": "markdown",
      "source": [
        "### `while`"
      ],
      "metadata": {
        "id": "BqR0LvBm10-2"
      }
    },
    {
      "cell_type": "markdown",
      "source": [
        "```python\n",
        "while <expression>:\n",
        "    <code block>\n",
        "```"
      ],
      "metadata": {
        "id": "_kmFLnfH13M3"
      }
    },
    {
      "cell_type": "code",
      "source": [
        "x = 0\n",
        "\n",
        "while x < 5:\n",
        "    print(x)\n",
        "    x += 1"
      ],
      "metadata": {
        "colab": {
          "base_uri": "https://localhost:8080/"
        },
        "id": "NX4sVH2Y2FZX",
        "outputId": "4a2fe51a-8768-4b06-dcf6-77a18ec8e2ab"
      },
      "execution_count": 15,
      "outputs": [
        {
          "output_type": "stream",
          "name": "stdout",
          "text": [
            "0\n",
            "1\n",
            "2\n",
            "3\n",
            "4\n"
          ]
        }
      ]
    },
    {
      "cell_type": "markdown",
      "source": [
        "## `continue` statement\n",
        "\n",
        "- Used to skip a loop iteration"
      ],
      "metadata": {
        "id": "6CTGT8Mn27jG"
      }
    },
    {
      "cell_type": "code",
      "source": [
        "for x in [0, 1, 2, 3]:\n",
        "    if x == 2:\n",
        "        continue\n",
        "    print(x)"
      ],
      "metadata": {
        "colab": {
          "base_uri": "https://localhost:8080/"
        },
        "id": "yKVYfuli3Dhi",
        "outputId": "f3f4fdb5-0551-4d88-a9c7-87d0648b2fac"
      },
      "execution_count": 16,
      "outputs": [
        {
          "output_type": "stream",
          "name": "stdout",
          "text": [
            "0\n",
            "1\n",
            "3\n"
          ]
        }
      ]
    },
    {
      "cell_type": "markdown",
      "source": [
        "## `break` statement\n",
        "\n",
        "- Used to exit from a loop"
      ],
      "metadata": {
        "id": "bdjvFLzk3PpW"
      }
    },
    {
      "cell_type": "code",
      "source": [
        "for x in [0, 1, 2, 3]:\n",
        "    if x == 2:\n",
        "        break\n",
        "    print(x)"
      ],
      "metadata": {
        "colab": {
          "base_uri": "https://localhost:8080/"
        },
        "id": "Sv7uC9UC3Trq",
        "outputId": "f0c5931e-cc0c-483f-a672-f6e558af2e6d"
      },
      "execution_count": 17,
      "outputs": [
        {
          "output_type": "stream",
          "name": "stdout",
          "text": [
            "0\n",
            "1\n"
          ]
        }
      ]
    }
  ]
}